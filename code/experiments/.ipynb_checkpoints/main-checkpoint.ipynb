{
 "cells": [
  {
   "cell_type": "code",
   "execution_count": 1,
   "metadata": {},
   "outputs": [],
   "source": [
    "# Install needed stuff to the Jupyter and kernel environment\n",
    "# Need to install only once, so commented out for cleaner output\n",
    "# %pip install pyarrow\n",
    "# %pip install pandas\n",
    "# %pip install numpy\n",
    "# %pip install matplotlib\n",
    "# %pip install pyfinance\n",
    "# %pip install yfinance\n",
    "# %pip install yahoo-fin"
   ]
  },
  {
   "cell_type": "code",
   "execution_count": 2,
   "metadata": {},
   "outputs": [],
   "source": [
    "# Import needed stuff\n",
    "import sys\n",
    "import pyarrow.feather as feather\n",
    "import math\n",
    "import pandas\n",
    "import numpy as np\n",
    "import matplotlib.pyplot as plt\n",
    "from pyfinance.options import BSM\n",
    "import yfinance as yf\n",
    "from datetime import datetime, timedelta, date\n",
    "from yahoo_fin import options as op"
   ]
  },
  {
   "cell_type": "markdown",
   "metadata": {},
   "source": [
    "# Hedging assigment"
   ]
  },
  {
   "cell_type": "markdown",
   "metadata": {},
   "source": [
    "# Fetch SP500 index and option data via ```yfinance```"
   ]
  },
  {
   "cell_type": "markdown",
   "metadata": {},
   "source": [
    "### Data fetching and wrangling"
   ]
  },
  {
   "cell_type": "code",
   "execution_count": 9,
   "metadata": {},
   "outputs": [],
   "source": [
    "# Get data from Yahoo Finance\n",
    "def get_historical_data_and_option_expirations(ticker):\n",
    "    ticker_data = yf.Ticker(ticker)\n",
    "    \n",
    "    # Get expiration dates of the options to a dataframe\n",
    "    expiration_dates = pandas.DataFrame(data=ticker_data.options)\n",
    "    \n",
    "    return ticker_data, expiration_dates"
   ]
  },
  {
   "cell_type": "code",
   "execution_count": 10,
   "metadata": {},
   "outputs": [],
   "source": [
    "def get_option_chain_by_expiration(data, expiration_date):\n",
    "    # Get the option chain for the data\n",
    "    option_chain_for_expiration = data.option_chain(expiration_date)\n",
    "    \n",
    "    # We will use call options for the hedging assignment, construct them to a dataframe\n",
    "    opt_calls = pandas.DataFrame(option_chain_for_expiration.calls)\n",
    "    \n",
    "    # Get also the Put options and construct them to a dataframe\n",
    "    # Optional and not needed yet in the assignment\n",
    "    opt_puts = pandas.DataFrame(option_chain_for_expiration.puts)\n",
    "\n",
    "    return opt_calls, opt_puts \n",
    "    "
   ]
  },
  {
   "cell_type": "code",
   "execution_count": 11,
   "metadata": {},
   "outputs": [],
   "source": [
    "def write_dataframes_to_csv(df, file_name):\n",
    "    df.to_csv(str(file_name) + '.csv', sep='\\t', index=True)"
   ]
  },
  {
   "cell_type": "code",
   "execution_count": 14,
   "metadata": {},
   "outputs": [
    {
     "name": "stdout",
     "output_type": "stream",
     "text": [
      "2023-11-17\n"
     ]
    }
   ],
   "source": [
    "# SPY stands for Standard & Poors\n",
    "\n",
    "# Dataframe of historical data, list of expiration dates\n",
    "ticker, option_expirations = get_historical_data_and_option_expirations('SPY')\n",
    "\n",
    "# Historical data as DataFrame\n",
    "df_history = pandas.DataFrame(ticker.history(period='max'))\n",
    "\n",
    "# Take the first option, which expires\n",
    "option_expiration_date = option_expirations.iloc[0][0]\n",
    "print(option_expiration_date)\n",
    "\n",
    "# Dataframe of calls and dataframe of puts for a single expiration date\n",
    "calls, puts = get_option_chain_by_expiration(ticker, option_expiration_date)\n"
   ]
  },
  {
   "cell_type": "code",
   "execution_count": 13,
   "metadata": {},
   "outputs": [],
   "source": [
    "write_dataframes_to_csv(df_history, 'historical_data_all')\n",
    "write_dataframes_to_csv(calls, 'calls_1')\n",
    "write_dataframes_to_csv(puts, 'puts_1')"
   ]
  },
  {
   "cell_type": "code",
   "execution_count": null,
   "metadata": {},
   "outputs": [],
   "source": [
    "print(calls)\n",
    "# print(df_history)\n",
    "# print(option_expiration_date)\n",
    "prices_after_hedge_date = df_history['2023-10-02':'2023-11-16']\n",
    "print(prices_after_hedge_date)"
   ]
  },
  {
   "cell_type": "markdown",
   "metadata": {},
   "source": [
    "## The hedging function itself"
   ]
  },
  {
   "cell_type": "code",
   "execution_count": 40,
   "metadata": {},
   "outputs": [],
   "source": [
    "def delta_hedge(underlying_data, call_option_data, option_expiration_date):\n",
    "    # print(underlying_data)\n",
    "    # print(call_option_data)\n",
    "    # print(option_expiration_date)\n",
    "    \n",
    "    # Get time to maturity in years\n",
    "    t = 46/365 # Comes from the option expiration date counted backwards\n",
    "    # Debug print\n",
    "    print(t)\n",
    "\n",
    "    # t = 0 is 2.10.\n",
    "    t0 = '2023-10-02'\n",
    "\n",
    "    # US treasury 10-year bond yield?\n",
    "    r = 0.05\n",
    "    \n",
    "    # What would be a good value? 0.2 is used in the exercies\n",
    "    sigma = 0.2\n",
    "    \n",
    "    # Value of the BSM for the call option c0 at time t0\n",
    "    print(underlying_data.iloc[0])\n",
    "    print(call_option_data.iloc[0])\n",
    "    c0 = BSM(kind='call', S0=underlying_data.iloc[0]['Close'], K=call_option_data.iloc[0]['strike'], T=t, r=r, sigma=sigma)\n",
    "    print('value from BSM', c0.value())\n",
    "    \n",
    "    # Delta of the BSM for the call option c0 at time t0\n",
    "    delta = c0.delta()\n",
    "    print('Delta from BSM', delta)\n",
    "    \n",
    "    # Construct two portfolios:\n",
    "    # OP with a long position in a call option\n",
    "    # RE which is a short position of number of delta of the underlying asset\n",
    "    \n",
    "    # OP\n",
    "    op = c0\n",
    "    print('Long position in a call option c0 is ', c0)\n",
    "    \n",
    "    # RE\n",
    "    re = -1*c0.delta() * c0.value()\n",
    "    print('Short position re ', re)\n",
    "\n",
    "    # Portfolio value according to lecture 7\n",
    "    portfolio_value = c0.value() - delta*c0.value()\n",
    "    print('Portfolio value ', portfolio_value)\n",
    "    \n",
    "    option_quantity = 1 #One call option ?\n",
    "\n",
    "    # Changes in the portfolio OP are neutralized by oppsite changes in the replicatin portfolio re\n",
    "    # rehedge every second day\n",
    "    # Compute how much every portfolio has changed\n",
    "    # Count mean squared error"
   ]
  },
  {
   "cell_type": "code",
   "execution_count": 41,
   "metadata": {},
   "outputs": [
    {
     "name": "stdout",
     "output_type": "stream",
     "text": [
      "0.12602739726027398\n",
      "Open             4.266200e+02\n",
      "High             4.286000e+02\n",
      "Low              4.244600e+02\n",
      "Close            4.273100e+02\n",
      "Volume           8.379860e+07\n",
      "Dividends        0.000000e+00\n",
      "Stock Splits     0.000000e+00\n",
      "Capital Gains    0.000000e+00\n",
      "Name: 2023-10-02 00:00:00-04:00, dtype: float64\n",
      "contractSymbol              SPY231117C00210000\n",
      "lastTradeDate        2023-11-16 16:09:26+00:00\n",
      "strike                                   210.0\n",
      "lastPrice                               238.85\n",
      "bid                                        0.0\n",
      "ask                                        0.0\n",
      "change                                     0.0\n",
      "percentChange                              0.0\n",
      "volume                                    11.0\n",
      "openInterest                               0.0\n",
      "impliedVolatility                      0.00001\n",
      "inTheMoney                                True\n",
      "contractSize                           REGULAR\n",
      "currency                                   USD\n",
      "Name: 0, dtype: object\n",
      "value from BSM 218.62912471087742\n",
      "Delta from BSM 1.0\n",
      "Long position in a call option c0 is  BSM(kind=call,\n",
      "\tS0=427.30999755859375,\n",
      "\tK=210.0,\n",
      "\tT=0.12602739726027398,\n",
      "\tr=0.05,\n",
      "\tsigma=0.2)\n",
      "Short position re  -218.62912471087742\n",
      "Portfolio value  0.0\n"
     ]
    },
    {
     "ename": "TypeError",
     "evalue": "BSM.implied_vol() missing 1 required positional argument: 'value'",
     "output_type": "error",
     "traceback": [
      "\u001b[0;31m---------------------------------------------------------------------------\u001b[0m",
      "\u001b[0;31mTypeError\u001b[0m                                 Traceback (most recent call last)",
      "Cell \u001b[0;32mIn[41], line 1\u001b[0m\n\u001b[0;32m----> 1\u001b[0m \u001b[43mdelta_hedge\u001b[49m\u001b[43m(\u001b[49m\u001b[43mprices_after_hedge_date\u001b[49m\u001b[43m,\u001b[49m\u001b[43m \u001b[49m\u001b[43mcalls\u001b[49m\u001b[43m,\u001b[49m\u001b[43m \u001b[49m\u001b[43moption_expiration_date\u001b[49m\u001b[43m)\u001b[49m\n",
      "Cell \u001b[0;32mIn[40], line 47\u001b[0m, in \u001b[0;36mdelta_hedge\u001b[0;34m(underlying_data, call_option_data, option_expiration_date)\u001b[0m\n\u001b[1;32m     44\u001b[0m \u001b[38;5;28mprint\u001b[39m(\u001b[38;5;124m'\u001b[39m\u001b[38;5;124mPortfolio value \u001b[39m\u001b[38;5;124m'\u001b[39m, portfolio_value)\n\u001b[1;32m     46\u001b[0m \u001b[38;5;66;03m# Implied volatility\u001b[39;00m\n\u001b[0;32m---> 47\u001b[0m \u001b[38;5;28mprint\u001b[39m(\u001b[38;5;124m'\u001b[39m\u001b[38;5;124mImplied volatility\u001b[39m\u001b[38;5;124m'\u001b[39m, \u001b[43mc0\u001b[49m\u001b[38;5;241;43m.\u001b[39;49m\u001b[43mimplied_vol\u001b[49m\u001b[43m(\u001b[49m\u001b[43m)\u001b[49m)\n\u001b[1;32m     49\u001b[0m option_quantity \u001b[38;5;241m=\u001b[39m \u001b[38;5;241m1\u001b[39m\n",
      "\u001b[0;31mTypeError\u001b[0m: BSM.implied_vol() missing 1 required positional argument: 'value'"
     ]
    }
   ],
   "source": [
    "delta_hedge(prices_after_hedge_date, calls, option_expiration_date)"
   ]
  },
  {
   "cell_type": "code",
   "execution_count": null,
   "metadata": {},
   "outputs": [],
   "source": []
  }
 ],
 "metadata": {
  "kernelspec": {
   "display_name": "Python 3 (ipykernel)",
   "language": "python",
   "name": "python3"
  },
  "language_info": {
   "codemirror_mode": {
    "name": "ipython",
    "version": 3
   },
   "file_extension": ".py",
   "mimetype": "text/x-python",
   "name": "python",
   "nbconvert_exporter": "python",
   "pygments_lexer": "ipython3",
   "version": "3.10.12"
  }
 },
 "nbformat": 4,
 "nbformat_minor": 4
}
