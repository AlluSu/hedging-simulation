{
 "cells": [
  {
   "cell_type": "code",
   "execution_count": 2,
   "metadata": {},
   "outputs": [],
   "source": [
    "#%pip install pyarrow\n",
    "#%pip install pandas\n",
    "#%pip install numpy\n",
    "#%pip install matplotlib\n",
    "#%pip install pyfinance\n",
    "#%pip install yfinance\n",
    "#%pip install yahoo-fin\n",
    "import sys\n",
    "import pyarrow.feather as feather\n",
    "import math\n",
    "import pandas as pd\n",
    "import numpy as np\n",
    "import matplotlib.pyplot as plt\n",
    "from pyfinance.options import BSM\n",
    "import yfinance as yf\n",
    "from datetime import datetime, timedelta, date\n",
    "from yahoo_fin import options as op"
   ]
  },
  {
   "cell_type": "code",
   "execution_count": 12,
   "metadata": {},
   "outputs": [],
   "source": [
    "def get_options_data(ticker, expiration_date):\n",
    "    stock = yf.Ticker(ticker)\n",
    "    options_data = stock.option_chain(expiration_date)\n",
    "    return options_data\n",
    "\n",
    "ticker_symbol = \"AAPL\"\n",
    "expiration_date = \"2023-12-22\"\n",
    "\n",
    "options_data = get_options_data(ticker_symbol, expiration_date)\n",
    "#print(options_data.calls)  # Access call options data\n",
    "#print(options_data.puts)   # Access put options data\n"
   ]
  },
  {
   "cell_type": "code",
   "execution_count": 13,
   "metadata": {},
   "outputs": [
    {
     "ename": "TypeError",
     "evalue": "'numpy.float64' object cannot be interpreted as an integer",
     "output_type": "error",
     "traceback": [
      "\u001b[1;31m---------------------------------------------------------------------------\u001b[0m",
      "\u001b[1;31mTypeError\u001b[0m                                 Traceback (most recent call last)",
      "\u001b[1;32me:\\Aalto\\Financial engineering\\hedging\\code\\data_fetching.ipynb Cell 3\u001b[0m line \u001b[0;36m1\n\u001b[0;32m     <a href='vscode-notebook-cell:/e%3A/Aalto/Financial%20engineering/hedging/code/data_fetching.ipynb#W2sZmlsZQ%3D%3D?line=15'>16</a>\u001b[0m days_to_expiration \u001b[39m=\u001b[39m \u001b[39m45\u001b[39m\n\u001b[0;32m     <a href='vscode-notebook-cell:/e%3A/Aalto/Financial%20engineering/hedging/code/data_fetching.ipynb#W2sZmlsZQ%3D%3D?line=17'>18</a>\u001b[0m \u001b[39m#options_chain = get_options_data(ticker_symbol, days_to_expiration)\u001b[39;00m\n\u001b[1;32m---> <a href='vscode-notebook-cell:/e%3A/Aalto/Financial%20engineering/hedging/code/data_fetching.ipynb#W2sZmlsZQ%3D%3D?line=18'>19</a>\u001b[0m options_dataframe \u001b[39m=\u001b[39m create_options_dataframe(options_data)\n\u001b[0;32m     <a href='vscode-notebook-cell:/e%3A/Aalto/Financial%20engineering/hedging/code/data_fetching.ipynb#W2sZmlsZQ%3D%3D?line=20'>21</a>\u001b[0m \u001b[39mprint\u001b[39m(options_dataframe)\n",
      "\u001b[1;32me:\\Aalto\\Financial engineering\\hedging\\code\\data_fetching.ipynb Cell 3\u001b[0m line \u001b[0;36m4\n\u001b[0;32m      <a href='vscode-notebook-cell:/e%3A/Aalto/Financial%20engineering/hedging/code/data_fetching.ipynb#W2sZmlsZQ%3D%3D?line=0'>1</a>\u001b[0m \u001b[39mdef\u001b[39;00m \u001b[39mcreate_options_dataframe\u001b[39m(options_chain):\n\u001b[0;32m      <a href='vscode-notebook-cell:/e%3A/Aalto/Financial%20engineering/hedging/code/data_fetching.ipynb#W2sZmlsZQ%3D%3D?line=1'>2</a>\u001b[0m     underlying_price \u001b[39m=\u001b[39m options_chain\u001b[39m.\u001b[39mcalls\u001b[39m.\u001b[39miloc[\u001b[39m0\u001b[39m][\u001b[39m'\u001b[39m\u001b[39mlastPrice\u001b[39m\u001b[39m'\u001b[39m]  \u001b[39m# Using the last price of the first call option\u001b[39;00m\n\u001b[1;32m----> <a href='vscode-notebook-cell:/e%3A/Aalto/Financial%20engineering/hedging/code/data_fetching.ipynb#W2sZmlsZQ%3D%3D?line=3'>4</a>\u001b[0m     call_strikes \u001b[39m=\u001b[39m [\u001b[39mstr\u001b[39m(strike) \u001b[39mfor\u001b[39;00m strike \u001b[39min\u001b[39;00m \u001b[39mrange\u001b[39;49m(underlying_price \u001b[39m-\u001b[39;49m \u001b[39m10\u001b[39;49m, underlying_price \u001b[39m+\u001b[39;49m \u001b[39m11\u001b[39;49m, \u001b[39m5\u001b[39;49m)]\n\u001b[0;32m      <a href='vscode-notebook-cell:/e%3A/Aalto/Financial%20engineering/hedging/code/data_fetching.ipynb#W2sZmlsZQ%3D%3D?line=4'>5</a>\u001b[0m     call_prices \u001b[39m=\u001b[39m [options_chain\u001b[39m.\u001b[39mcalls[options_chain\u001b[39m.\u001b[39mcalls[\u001b[39m'\u001b[39m\u001b[39mstrike\u001b[39m\u001b[39m'\u001b[39m] \u001b[39m==\u001b[39m \u001b[39mfloat\u001b[39m(strike)][\u001b[39m'\u001b[39m\u001b[39mlastPrice\u001b[39m\u001b[39m'\u001b[39m]\u001b[39m.\u001b[39miloc[\u001b[39m0\u001b[39m] \u001b[39mfor\u001b[39;00m strike \u001b[39min\u001b[39;00m call_strikes]\n\u001b[0;32m      <a href='vscode-notebook-cell:/e%3A/Aalto/Financial%20engineering/hedging/code/data_fetching.ipynb#W2sZmlsZQ%3D%3D?line=6'>7</a>\u001b[0m     data \u001b[39m=\u001b[39m {\u001b[39m'\u001b[39m\u001b[39mUnderlying Price\u001b[39m\u001b[39m'\u001b[39m: [underlying_price] \u001b[39m*\u001b[39m \u001b[39mlen\u001b[39m(call_strikes)}\n",
      "\u001b[1;31mTypeError\u001b[0m: 'numpy.float64' object cannot be interpreted as an integer"
     ]
    }
   ],
   "source": [
    "def create_options_dataframe(options_chain):\n",
    "    underlying_price = options_chain.calls.iloc[0]['lastPrice']  # Using the last price of the first call option\n",
    "\n",
    "    call_strikes = [str(strike) for strike in range(int(underlying_price) - 10, int(underlying_price) + 11, 5)]\n",
    "    call_prices = [int(options_chain.calls[options_chain.calls['strike'] == float(strike)]['lastPrice'].iloc[0]) for strike in call_strikes]\n",
    "\n",
    "    data = {'Underlying Price': [underlying_price] * len(call_strikes)}\n",
    "    for i in range(len(call_strikes)):\n",
    "        data[f'Call {call_strikes[i]}'] = [call_prices[i]]\n",
    "\n",
    "    options_df = pd.DataFrame(data)\n",
    "    return options_df\n",
    "\n",
    "# Example usage:\n",
    "ticker_symbol = \"AAPL\"\n",
    "days_to_expiration = 45\n",
    "options_dataframe = create_options_dataframe(options_data)\n",
    "\n",
    "print(options_dataframe)"
   ]
  }
 ],
 "metadata": {
  "kernelspec": {
   "display_name": "Python 3",
   "language": "python",
   "name": "python3"
  },
  "language_info": {
   "codemirror_mode": {
    "name": "ipython",
    "version": 3
   },
   "file_extension": ".py",
   "mimetype": "text/x-python",
   "name": "python",
   "nbconvert_exporter": "python",
   "pygments_lexer": "ipython3",
   "version": "3.9.6"
  }
 },
 "nbformat": 4,
 "nbformat_minor": 2
}
