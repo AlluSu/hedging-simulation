{
 "cells": [
  {
   "cell_type": "code",
   "execution_count": 2,
   "metadata": {},
   "outputs": [],
   "source": [
    "# Install needed stuff to the Jupyter and kernel environment\n",
    "# Need to install only once, so commented out for cleaner output\n",
    "# %pip install pyarrow\n",
    "# %pip install pandas\n",
    "# %pip install numpy\n",
    "# %pip install matplotlib\n",
    "# %pip install pyfinance"
   ]
  },
  {
   "cell_type": "code",
   "execution_count": 3,
   "metadata": {},
   "outputs": [],
   "source": [
    "# Import needed stuff\n",
    "import sys\n",
    "import pyarrow.feather as feather\n",
    "import math\n",
    "import pandas\n",
    "import numpy as np\n",
    "import matplotlib.pyplot as plt\n",
    "from pyfinance.options import BSM\n",
    "from datetime import datetime, timedelta, date"
   ]
  },
  {
   "cell_type": "markdown",
   "metadata": {},
   "source": [
    "# Hedging assigment"
   ]
  },
  {
   "cell_type": "markdown",
   "metadata": {},
   "source": [
    "### Data fetching and wrangling"
   ]
  },
  {
   "cell_type": "code",
   "execution_count": 5,
   "metadata": {},
   "outputs": [
    {
     "name": "stdout",
     "output_type": "stream",
     "text": [
      "         Date  Underlying   C115   C120   C125   C130   C135  P115  P120  \\\n",
      "0  2021-12-20      169.75   <NA>  51.05   45.6   41.4  36.68   0.7  0.88   \n",
      "1  2021-12-21      172.99   55.4   51.7  48.25     42  38.01  0.53  0.66   \n",
      "2  2021-12-22      175.64   59.9   56.0   51.0   45.9  41.95  0.52   0.6   \n",
      "3  2021-12-23      176.28   <NA>   57.1   <NA>   47.1  42.58  0.43  0.53   \n",
      "4  2021-12-27      180.33  65.56   60.2  55.75   51.1  45.07  0.36  0.45   \n",
      "..        ...         ...    ...    ...    ...    ...    ...   ...   ...   \n",
      "57 2022-03-14      150.62   <NA>   32.4  25.35  20.79   15.8  0.03  0.04   \n",
      "58 2022-03-15      155.09  37.95   35.1  29.03   25.2  20.14  0.02  0.02   \n",
      "59 2022-03-16      159.59  39.75  37.05  32.58   29.2   24.3  0.01  0.01   \n",
      "60 2022-03-17      160.62   45.0   40.2  35.65  30.22  25.75  0.01  0.01   \n",
      "61 2022-03-18      163.98  47.27  44.08   39.0   33.5  28.58  <NA>  0.01   \n",
      "\n",
      "    P125  P130  P135  \n",
      "0   1.08   1.4  1.78  \n",
      "1   0.83  1.08  1.34  \n",
      "2    0.7  0.91  1.17  \n",
      "3   0.66  0.82  1.03  \n",
      "4   0.55  0.67  0.85  \n",
      "..   ...   ...   ...  \n",
      "57  0.06   0.1  0.21  \n",
      "58  0.02  0.03  0.06  \n",
      "59  0.01  0.01  0.03  \n",
      "60  0.01  0.01  0.01  \n",
      "61  0.01  0.01  0.01  \n",
      "\n",
      "[62 rows x 12 columns]\n",
      "<class 'pandas.core.frame.DataFrame'>\n"
     ]
    }
   ],
   "source": [
    "apple_data_df = pandas.read_feather('apple.feather')"
   ]
  },
  {
   "cell_type": "markdown",
   "metadata": {},
   "source": [
    "## The hedging function itself"
   ]
  },
  {
   "cell_type": "code",
   "execution_count": 9,
   "metadata": {},
   "outputs": [],
   "source": [
    "def delta_hedge(data):\n",
    "    print(data)\n",
    "    return\n",
    "    # Get time to maturity in years\n",
    "    t = 46/365 # Comes from the option expiration date counted backwards\n",
    "    # Debug print\n",
    "    print(t)\n",
    "\n",
    "    # t = 0 is 2.10.\n",
    "    t0 = '2023-10-02'\n",
    "\n",
    "    # US treasury 3-Month Treasury Yield, Level from FRED for Q2/2023\n",
    "    r = 0.05076\n",
    "    \n",
    "    initial_call = BSM(kind='call', S0=underlying_data.iloc[0]['Close'], K=call_option_data.iloc[0]['strike'], T=t, r=r, sigma=call_option_data.iloc[0]['impliedVolatility'])\n",
    "    print('Initial call option value from BSM', initial_call.value()) # Value of the BSM for the call option c0 at time t0\n",
    "\n",
    "    initial_delta = initial_call.delta() # Delta of the BSM for the call option c0 at time t0\n",
    "    print('Initial value of delta from BSM', initial_delta)\n",
    "\n",
    "    scraped_data = call_option_data[['strike', 'impliedVolatility']]\n",
    "    scraped_strike_prices_close_to_atm = scraped_data.iloc[100:110]\n",
    "    print(scraped_strike_prices_close_to_atm)\n",
    "    for entry in underlying_data['Close']:\n",
    "        for index, row in scraped_strike_prices_close_to_atm.iterrows():\n",
    "            call = BSM(kind='call', S0=entry, K=row[\"strike\"], T=t, r=r, sigma=row['impliedVolatility'])\n",
    "            print('Call option value from BSM', call.value()) # Value of the BSM for the call option c at time t\n",
    "        \n",
    "            delta = call.delta() # Delta of the BSM for the call option c at time t\n",
    "            print('Value of delta from BSM', delta)\n",
    "            print('\\n')\n",
    "            "
   ]
  },
  {
   "cell_type": "code",
   "execution_count": 10,
   "metadata": {},
   "outputs": [
    {
     "name": "stdout",
     "output_type": "stream",
     "text": [
      "         Date  Underlying   C115   C120   C125   C130   C135  P115  P120  \\\n",
      "0  2021-12-20      169.75   <NA>  51.05   45.6   41.4  36.68   0.7  0.88   \n",
      "1  2021-12-21      172.99   55.4   51.7  48.25     42  38.01  0.53  0.66   \n",
      "2  2021-12-22      175.64   59.9   56.0   51.0   45.9  41.95  0.52   0.6   \n",
      "3  2021-12-23      176.28   <NA>   57.1   <NA>   47.1  42.58  0.43  0.53   \n",
      "4  2021-12-27      180.33  65.56   60.2  55.75   51.1  45.07  0.36  0.45   \n",
      "..        ...         ...    ...    ...    ...    ...    ...   ...   ...   \n",
      "57 2022-03-14      150.62   <NA>   32.4  25.35  20.79   15.8  0.03  0.04   \n",
      "58 2022-03-15      155.09  37.95   35.1  29.03   25.2  20.14  0.02  0.02   \n",
      "59 2022-03-16      159.59  39.75  37.05  32.58   29.2   24.3  0.01  0.01   \n",
      "60 2022-03-17      160.62   45.0   40.2  35.65  30.22  25.75  0.01  0.01   \n",
      "61 2022-03-18      163.98  47.27  44.08   39.0   33.5  28.58  <NA>  0.01   \n",
      "\n",
      "    P125  P130  P135  \n",
      "0   1.08   1.4  1.78  \n",
      "1   0.83  1.08  1.34  \n",
      "2    0.7  0.91  1.17  \n",
      "3   0.66  0.82  1.03  \n",
      "4   0.55  0.67  0.85  \n",
      "..   ...   ...   ...  \n",
      "57  0.06   0.1  0.21  \n",
      "58  0.02  0.03  0.06  \n",
      "59  0.01  0.01  0.03  \n",
      "60  0.01  0.01  0.01  \n",
      "61  0.01  0.01  0.01  \n",
      "\n",
      "[62 rows x 12 columns]\n"
     ]
    }
   ],
   "source": [
    "delta_hedge(apple_data_df)"
   ]
  }
 ],
 "metadata": {
  "kernelspec": {
   "display_name": "Python 3 (ipykernel)",
   "language": "python",
   "name": "python3"
  },
  "language_info": {
   "codemirror_mode": {
    "name": "ipython",
    "version": 3
   },
   "file_extension": ".py",
   "mimetype": "text/x-python",
   "name": "python",
   "nbconvert_exporter": "python",
   "pygments_lexer": "ipython3",
   "version": "3.10.12"
  }
 },
 "nbformat": 4,
 "nbformat_minor": 4
}
