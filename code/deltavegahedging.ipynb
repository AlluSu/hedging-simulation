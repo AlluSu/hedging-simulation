{
 "cells": [
  {
   "cell_type": "code",
   "execution_count": 36,
   "metadata": {},
   "outputs": [
    {
     "data": {
      "text/html": [
       "<div>\n",
       "<style scoped>\n",
       "    .dataframe tbody tr th:only-of-type {\n",
       "        vertical-align: middle;\n",
       "    }\n",
       "\n",
       "    .dataframe tbody tr th {\n",
       "        vertical-align: top;\n",
       "    }\n",
       "\n",
       "    .dataframe thead th {\n",
       "        text-align: right;\n",
       "    }\n",
       "</style>\n",
       "<table border=\"1\" class=\"dataframe\">\n",
       "  <thead>\n",
       "    <tr style=\"text-align: right;\">\n",
       "      <th></th>\n",
       "      <th>Date</th>\n",
       "      <th>Underlying</th>\n",
       "      <th>C170</th>\n",
       "      <th>C175</th>\n",
       "      <th>C180</th>\n",
       "      <th>C185</th>\n",
       "      <th>C190</th>\n",
       "      <th>P170</th>\n",
       "      <th>P175</th>\n",
       "      <th>P180</th>\n",
       "      <th>P185</th>\n",
       "      <th>P190</th>\n",
       "      <th>T</th>\n",
       "    </tr>\n",
       "  </thead>\n",
       "  <tbody>\n",
       "    <tr>\n",
       "      <th>0</th>\n",
       "      <td>2023-08-21</td>\n",
       "      <td>175.84</td>\n",
       "      <td>16.40</td>\n",
       "      <td>13.27</td>\n",
       "      <td>10.30</td>\n",
       "      <td>7.85</td>\n",
       "      <td>5.91</td>\n",
       "      <td>6.81</td>\n",
       "      <td>8.65</td>\n",
       "      <td>10.85</td>\n",
       "      <td>13.35</td>\n",
       "      <td>16.50</td>\n",
       "      <td>0.413699</td>\n",
       "    </tr>\n",
       "    <tr>\n",
       "      <th>1</th>\n",
       "      <td>2023-08-22</td>\n",
       "      <td>177.23</td>\n",
       "      <td>17.50</td>\n",
       "      <td>14.10</td>\n",
       "      <td>11.10</td>\n",
       "      <td>8.51</td>\n",
       "      <td>6.34</td>\n",
       "      <td>6.26</td>\n",
       "      <td>8.10</td>\n",
       "      <td>10.10</td>\n",
       "      <td>12.75</td>\n",
       "      <td>15.50</td>\n",
       "      <td>0.410959</td>\n",
       "    </tr>\n",
       "    <tr>\n",
       "      <th>2</th>\n",
       "      <td>2023-08-23</td>\n",
       "      <td>181.12</td>\n",
       "      <td>20.20</td>\n",
       "      <td>16.65</td>\n",
       "      <td>13.45</td>\n",
       "      <td>10.55</td>\n",
       "      <td>8.08</td>\n",
       "      <td>5.25</td>\n",
       "      <td>6.71</td>\n",
       "      <td>8.50</td>\n",
       "      <td>10.70</td>\n",
       "      <td>13.33</td>\n",
       "      <td>0.408219</td>\n",
       "    </tr>\n",
       "    <tr>\n",
       "      <th>3</th>\n",
       "      <td>2023-08-24</td>\n",
       "      <td>176.38</td>\n",
       "      <td>16.97</td>\n",
       "      <td>13.75</td>\n",
       "      <td>10.80</td>\n",
       "      <td>8.35</td>\n",
       "      <td>6.25</td>\n",
       "      <td>6.85</td>\n",
       "      <td>8.62</td>\n",
       "      <td>10.75</td>\n",
       "      <td>13.35</td>\n",
       "      <td>16.60</td>\n",
       "      <td>0.405479</td>\n",
       "    </tr>\n",
       "    <tr>\n",
       "      <th>4</th>\n",
       "      <td>2023-08-25</td>\n",
       "      <td>178.61</td>\n",
       "      <td>18.50</td>\n",
       "      <td>15.15</td>\n",
       "      <td>11.85</td>\n",
       "      <td>9.19</td>\n",
       "      <td>6.90</td>\n",
       "      <td>5.90</td>\n",
       "      <td>7.50</td>\n",
       "      <td>9.50</td>\n",
       "      <td>11.90</td>\n",
       "      <td>14.81</td>\n",
       "      <td>0.402740</td>\n",
       "    </tr>\n",
       "  </tbody>\n",
       "</table>\n",
       "</div>"
      ],
      "text/plain": [
       "         Date  Underlying   C170   C175   C180   C185  C190  P170  P175   \n",
       "0  2023-08-21      175.84  16.40  13.27  10.30   7.85  5.91  6.81  8.65  \\\n",
       "1  2023-08-22      177.23  17.50  14.10  11.10   8.51  6.34  6.26  8.10   \n",
       "2  2023-08-23      181.12  20.20  16.65  13.45  10.55  8.08  5.25  6.71   \n",
       "3  2023-08-24      176.38  16.97  13.75  10.80   8.35  6.25  6.85  8.62   \n",
       "4  2023-08-25      178.61  18.50  15.15  11.85   9.19  6.90  5.90  7.50   \n",
       "\n",
       "    P180   P185   P190         T  \n",
       "0  10.85  13.35  16.50  0.413699  \n",
       "1  10.10  12.75  15.50  0.410959  \n",
       "2   8.50  10.70  13.33  0.408219  \n",
       "3  10.75  13.35  16.60  0.405479  \n",
       "4   9.50  11.90  14.81  0.402740  "
      ]
     },
     "execution_count": 36,
     "metadata": {},
     "output_type": "execute_result"
    }
   ],
   "source": [
    "# For now, I'm just focusing on delta hedging. After that is done, we make a system of equations\n",
    "# to set delta and vega to 0 and solve with np.linalg.solve() (see examples/ex6sol for reference).\n",
    "# %pip install pyfinance\n",
    "import pandas as pd\n",
    "from pyfinance.options import BSM\n",
    "from datetime import datetime, timedelta\n",
    "\n",
    "\n",
    "df = pd.read_csv(\"../data/apple.csv\")\n",
    "df = df.drop([\"Unnamed: 0\"], axis=1)\n",
    "df['date'] = pd.to_datetime(df['Date'])\n",
    "df['T'] = (pd.to_datetime('2024-01-19') - df['date']).dt.days / 365 #T = time to expiration in years\n",
    "df = df.drop([\"date\"], axis=1)\n",
    "df.head()"
   ]
  },
  {
   "cell_type": "markdown",
   "metadata": {},
   "source": [
    "The delta measures the rate of change of the security wrt. to the price of the underlying. Thus, the delta of the stock is one.\n",
    "Vega measures the rate of change of the security wrt. to the volatility of the underlying. Again, the vega of the stock is one. In delta hedging, we short the option and hold a dynamically adjusted amount of the risky asset to eliminate the risk."
   ]
  },
  {
   "cell_type": "code",
   "execution_count": 37,
   "metadata": {},
   "outputs": [
    {
     "name": "stdout",
     "output_type": "stream",
     "text": [
      "(12.527923392521458, 0.633136941899257, 18.825749309685786)\n"
     ]
    }
   ],
   "source": [
    "r = 0.01 # can be modified\n",
    "sigma = 0.5 # calculate later, the volatility of the stock\n",
    "\n",
    "def get_greeks(type, underlying, strike, T):\n",
    "    # type is \"call\" or \"put\"\n",
    "    val = BSM(kind=type, S0=underlying, K=strike, T=T, r=r, sigma=sigma).value()\n",
    "    delta = BSM(kind=type, S0=underlying, K=strike, T=T, r=r, sigma=sigma).delta()\n",
    "    vega = BSM(kind=type, S0=underlying, K=strike, T=T, r=r, sigma=sigma).vega()\n",
    "    return val, delta, vega\n",
    "\n",
    "print(get_greeks(\"call\", 100, 95, 0.25)) #testing"
   ]
  },
  {
   "cell_type": "markdown",
   "metadata": {},
   "source": [
    "Next, calculate the hedge with 2 portfolios: OP and RE. OP has a long call and RE has a short amount of the underlying asset (here, $AAPL). We want P = OP + RE to be neutral to small changes in the underlying price."
   ]
  },
  {
   "cell_type": "code",
   "execution_count": null,
   "metadata": {},
   "outputs": [],
   "source": [
    "def delta_hedge():\n",
    "    OP = C_0 # replace with call opt price\n",
    "    RE = - delta * underlying # replace again\n",
    "    next = \"\"\" we calculate changes in OP and RE and let A_0 = d OP - d RE\"\"\"\n",
    "\n",
    "#next, apply the delta hedge while looping through the dates in the df!\n"
   ]
  }
 ],
 "metadata": {
  "kernelspec": {
   "display_name": "Python 3",
   "language": "python",
   "name": "python3"
  },
  "language_info": {
   "codemirror_mode": {
    "name": "ipython",
    "version": 3
   },
   "file_extension": ".py",
   "mimetype": "text/x-python",
   "name": "python",
   "nbconvert_exporter": "python",
   "pygments_lexer": "ipython3",
   "version": "3.9.6"
  }
 },
 "nbformat": 4,
 "nbformat_minor": 2
}
