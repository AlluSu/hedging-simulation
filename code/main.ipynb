{
 "cells": [
  {
   "cell_type": "code",
   "execution_count": null,
   "metadata": {},
   "outputs": [
    {
     "name": "stdout",
     "output_type": "stream",
     "text": [
      "Defaulting to user installation because normal site-packages is not writeable\n",
      "Requirement already satisfied: pyarrow in /home/aleksi/.local/lib/python3.10/site-packages (14.0.0)\n",
      "Requirement already satisfied: numpy>=1.16.6 in /home/aleksi/.local/lib/python3.10/site-packages (from pyarrow) (1.24.3)\n"
     ]
    }
   ],
   "source": [
    "# Install needed stuff to the Jupyter and kernel environment\n",
    "\n",
    "%pip install pyarrow\n",
    "%pip install pandas\n",
    "%pip install numpy\n",
    "%pip install matplotlib\n",
    "%pip install pyfinance"
   ]
  },
  {
   "cell_type": "code",
   "execution_count": null,
   "metadata": {},
   "outputs": [],
   "source": [
    "# Import needed stuff\n",
    "import pyarrow.feather as feather\n",
    "import math\n",
    "import pandas\n",
    "import numpy as np\n",
    "import matplotlib.pyplot as plt\n",
    "from pyfinance.options import BSM"
   ]
  },
  {
   "cell_type": "code",
   "execution_count": null,
   "metadata": {},
   "outputs": [],
   "source": [
    "# Delta-hedging function\n",
    "def number_of_shares_to_buy(shares_per_contract, number_of_options, delta_of_option):\n",
    "    delta_of_underlying = 1 # why?\n",
    "\n",
    "    # Delta-hedging says:\n",
    "    # number_of_shares * delta_of_underlying + number_of_options * delta_of_option = 0\n",
    "    number_of_shares = (-number_of_options * delta_of_option / delta_of_underlying ) * shares_per_contract\n",
    "\n",
    "    print(\"To delta-hedge the portoflio, you need to\",(\"buy\" if number_of_shares >= 0 else \"sell\"), round(np.abs(number_of_shares),2), \"shares.\")\n",
    "    return number_of_shares\n"
   ]
  },
  {
   "cell_type": "code",
   "execution_count": null,
   "metadata": {},
   "outputs": [],
   "source": [
    "# Get volatility\n",
    "def get_volatility(apple_stock_data):\n",
    "    end_date = apple_stock_data.index.max()\n",
    "    start_date = apple_stock_data.index.min()\n",
    "    log_returns = np.log(apple_stock_data['Underlying']/apple_stock_data['Underlying'].shift(1)).dropna()\n",
    "    #print(log_returns)\n",
    "    volatility = log_returns.rolling(window = 21).std() * np.sqrt(252)\n",
    "    #print(volatility)\n",
    "    return volatility\n",
    "    \n",
    "    "
   ]
  },
  {
   "cell_type": "code",
   "execution_count": null,
   "metadata": {},
   "outputs": [],
   "source": [
    "# Read data and show it, data is from Refinitiv workspace\n",
    "apple_stock_data_as_df = feather.read_feather('../data/fe2.feather')\n",
    "\n",
    "# Set date to index instead of running index from 1..n\n",
    "date_as_index = apple_stock_data_as_df.set_index('Date', inplace=False)\n",
    "#print(date_as_index)\n",
    "vola = get_volatility(date_as_index)\n",
    "\n",
    "# Set values\n",
    "shares_per_contract = 100 # How this is determined ?\n",
    "number_of_options = 1 # How this is determined? 1 stock = 1 option, n stocks = n options?\n",
    "call_delta = BSM(kind='call', S0=date_as_index['Underlying'][-1], K=date_as_index['Underlying'][-1], T=0.25, r=0.05, sigma=vola[-1]).delta()\n",
    "print(\"Delta of the call option:\", call_delta)\n",
    "\n",
    "put_delta = BSM(kind='put', S0=date_as_index['Underlying'][-1], K=date_as_index['Underlying'][-1], T=0.25, r=0.05, sigma=vola[-1]).delta()\n",
    "print(\"Delta of the put option:\", put_delta)\n",
    "\n",
    "x = number_of_shares_to_buy(shares_per_contract, number_of_options, call_delta)\n",
    "print(x)\n",
    "y = number_of_shares_to_buy(shares_per_contract, number_of_options, put_delta)\n",
    "print(y)"
   ]
  },
  {
   "cell_type": "code",
   "execution_count": null,
   "metadata": {},
   "outputs": [],
   "source": [
    "vola.tail()"
   ]
  },
  {
   "cell_type": "code",
   "execution_count": null,
   "metadata": {},
   "outputs": [],
   "source": [
    "fig, ax = plt.subplots()\n",
    "ax.plot(date_as_index['Underlying'], color='red')\n",
    "ax.set_xlabel('Date', fontsize = 14)\n",
    "ax.set_ylabel('Underlying price', color='red', fontsize = 14)\n",
    "\n",
    "ax2 = ax.twinx()\n",
    "ax2.plot(vola, color = 'blue')\n",
    "ax2.set_ylabel('Volatility', color = 'blue', fontsize = 14)\n",
    "\n",
    "plt.show()"
   ]
  },
  {
   "cell_type": "code",
   "execution_count": null,
   "metadata": {},
   "outputs": [],
   "source": []
  }
 ],
 "metadata": {
  "kernelspec": {
   "display_name": "Python 3 (ipykernel)",
   "language": "python",
   "name": "python3"
  },
  "language_info": {
   "codemirror_mode": {
    "name": "ipython",
    "version": 3
   },
   "file_extension": ".py",
   "mimetype": "text/x-python",
   "name": "python",
   "nbconvert_exporter": "python",
   "pygments_lexer": "ipython3",
   "version": "3.10.12"
  }
 },
 "nbformat": 4,
 "nbformat_minor": 4
}
