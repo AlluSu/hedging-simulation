{
 "cells": [
  {
   "cell_type": "code",
   "execution_count": 1,
   "metadata": {},
   "outputs": [],
   "source": [
    "# Install needed stuff to the Jupyter and kernel environment\n",
    "# Need to install only once, so commented out for cleaner output\n",
    "# %pip install pyarrow\n",
    "# %pip install pandas\n",
    "# %pip install numpy\n",
    "# %pip install matplotlib\n",
    "# %pip install pyfinance\n",
    "# %pip install yfinance\n",
    "# %pip install yahoo-fin"
   ]
  },
  {
   "cell_type": "code",
   "execution_count": 2,
   "metadata": {},
   "outputs": [],
   "source": [
    "# Import needed stuff\n",
    "import sys\n",
    "import pyarrow.feather as feather\n",
    "import math\n",
    "import pandas\n",
    "import numpy as np\n",
    "import matplotlib.pyplot as plt\n",
    "from pyfinance.options import BSM\n",
    "import yfinance as yf\n",
    "from datetime import datetime, timedelta, date\n",
    "from yahoo_fin import options as op"
   ]
  },
  {
   "cell_type": "markdown",
   "metadata": {},
   "source": [
    "# Hedging assigment"
   ]
  },
  {
   "cell_type": "markdown",
   "metadata": {},
   "source": [
    "# Fetch SP500 index and option data via ```yfinance```"
   ]
  },
  {
   "cell_type": "markdown",
   "metadata": {},
   "source": [
    "### Data fetching and wrangling"
   ]
  },
  {
   "cell_type": "code",
   "execution_count": 3,
   "metadata": {},
   "outputs": [],
   "source": [
    "# Get data from Yahoo Finance\n",
    "def get_historical_data_and_option_expirations(ticker):\n",
    "    ticker_data = yf.Ticker(ticker)\n",
    "    \n",
    "    # Get expiration dates of the options to a dataframe\n",
    "    expiration_dates = pandas.DataFrame(data=ticker_data.options)\n",
    "    \n",
    "    return ticker_data, expiration_dates"
   ]
  },
  {
   "cell_type": "code",
   "execution_count": 4,
   "metadata": {},
   "outputs": [],
   "source": [
    "def get_option_chain_by_expiration(data, expiration_date):\n",
    "    # Get the option chain for the data\n",
    "    option_chain_for_expiration = data.option_chain(expiration_date)\n",
    "    \n",
    "    # We will use call options for the hedging assignment, construct them to a dataframe\n",
    "    opt_calls = pandas.DataFrame(option_chain_for_expiration.calls)\n",
    "    \n",
    "    # Get also the Put options and construct them to a dataframe\n",
    "    # Optional and not needed yet in the assignment\n",
    "    opt_puts = pandas.DataFrame(option_chain_for_expiration.puts)\n",
    "\n",
    "    return opt_calls, opt_puts \n",
    "    "
   ]
  },
  {
   "cell_type": "code",
   "execution_count": 5,
   "metadata": {},
   "outputs": [],
   "source": [
    "def write_dataframes_to_csv(df, file_name):\n",
    "    df.to_csv(str(file_name) + '.csv', sep='\\t', index=False)"
   ]
  },
  {
   "cell_type": "code",
   "execution_count": 6,
   "metadata": {},
   "outputs": [
    {
     "ename": "TypeError",
     "evalue": "Index(...) must be called with a collection of some kind, 'historical_data_all' was passed",
     "output_type": "error",
     "traceback": [
      "\u001b[0;31m---------------------------------------------------------------------------\u001b[0m",
      "\u001b[0;31mTypeError\u001b[0m                                 Traceback (most recent call last)",
      "Cell \u001b[0;32mIn[6], line 12\u001b[0m\n\u001b[1;32m      9\u001b[0m \u001b[38;5;66;03m# Dataframe of calls and dataframe of puts for a single expiration date\u001b[39;00m\n\u001b[1;32m     10\u001b[0m calls, puts \u001b[38;5;241m=\u001b[39m get_option_chain_by_expiration(ticker, option_expiration_date)\n\u001b[0;32m---> 12\u001b[0m write_dataframes_to_csv(\u001b[43mpandas\u001b[49m\u001b[38;5;241;43m.\u001b[39;49m\u001b[43mDataFrame\u001b[49m\u001b[43m(\u001b[49m\u001b[43mticker\u001b[49m\u001b[38;5;241;43m.\u001b[39;49m\u001b[43mhistory\u001b[49m\u001b[43m(\u001b[49m\u001b[43mperiod\u001b[49m\u001b[38;5;241;43m=\u001b[39;49m\u001b[38;5;124;43m'\u001b[39;49m\u001b[38;5;124;43mmax\u001b[39;49m\u001b[38;5;124;43m'\u001b[39;49m\u001b[43m)\u001b[49m\u001b[43m,\u001b[49m\u001b[43m \u001b[49m\u001b[38;5;124;43m'\u001b[39;49m\u001b[38;5;124;43mhistorical_data_all\u001b[39;49m\u001b[38;5;124;43m'\u001b[39;49m\u001b[43m)\u001b[49m)\n\u001b[1;32m     13\u001b[0m write_dataframes_to_csv(calls, \u001b[38;5;124m'\u001b[39m\u001b[38;5;124mcalls_1\u001b[39m\u001b[38;5;124m'\u001b[39m)\n\u001b[1;32m     14\u001b[0m write_dataframes_to_csv(puts, \u001b[38;5;124m'\u001b[39m\u001b[38;5;124mputs_1\u001b[39m\u001b[38;5;124m'\u001b[39m)\n",
      "File \u001b[0;32m~/.local/lib/python3.10/site-packages/pandas/core/frame.py:727\u001b[0m, in \u001b[0;36mDataFrame.__init__\u001b[0;34m(self, data, index, columns, dtype, copy)\u001b[0m\n\u001b[1;32m    724\u001b[0m     data \u001b[38;5;241m=\u001b[39m []\n\u001b[1;32m    726\u001b[0m \u001b[38;5;28;01mif\u001b[39;00m \u001b[38;5;28misinstance\u001b[39m(data, (BlockManager, ArrayManager)):\n\u001b[0;32m--> 727\u001b[0m     mgr \u001b[38;5;241m=\u001b[39m \u001b[38;5;28;43mself\u001b[39;49m\u001b[38;5;241;43m.\u001b[39;49m\u001b[43m_init_mgr\u001b[49m\u001b[43m(\u001b[49m\n\u001b[1;32m    728\u001b[0m \u001b[43m        \u001b[49m\u001b[43mdata\u001b[49m\u001b[43m,\u001b[49m\u001b[43m \u001b[49m\u001b[43maxes\u001b[49m\u001b[38;5;241;43m=\u001b[39;49m\u001b[43m{\u001b[49m\u001b[38;5;124;43m\"\u001b[39;49m\u001b[38;5;124;43mindex\u001b[39;49m\u001b[38;5;124;43m\"\u001b[39;49m\u001b[43m:\u001b[49m\u001b[43m \u001b[49m\u001b[43mindex\u001b[49m\u001b[43m,\u001b[49m\u001b[43m \u001b[49m\u001b[38;5;124;43m\"\u001b[39;49m\u001b[38;5;124;43mcolumns\u001b[39;49m\u001b[38;5;124;43m\"\u001b[39;49m\u001b[43m:\u001b[49m\u001b[43m \u001b[49m\u001b[43mcolumns\u001b[49m\u001b[43m}\u001b[49m\u001b[43m,\u001b[49m\u001b[43m \u001b[49m\u001b[43mdtype\u001b[49m\u001b[38;5;241;43m=\u001b[39;49m\u001b[43mdtype\u001b[49m\u001b[43m,\u001b[49m\u001b[43m \u001b[49m\u001b[43mcopy\u001b[49m\u001b[38;5;241;43m=\u001b[39;49m\u001b[43mcopy\u001b[49m\n\u001b[1;32m    729\u001b[0m \u001b[43m    \u001b[49m\u001b[43m)\u001b[49m\n\u001b[1;32m    731\u001b[0m \u001b[38;5;28;01melif\u001b[39;00m \u001b[38;5;28misinstance\u001b[39m(data, \u001b[38;5;28mdict\u001b[39m):\n\u001b[1;32m    732\u001b[0m     \u001b[38;5;66;03m# GH#38939 de facto copy defaults to False only in non-dict cases\u001b[39;00m\n\u001b[1;32m    733\u001b[0m     mgr \u001b[38;5;241m=\u001b[39m dict_to_mgr(data, index, columns, dtype\u001b[38;5;241m=\u001b[39mdtype, copy\u001b[38;5;241m=\u001b[39mcopy, typ\u001b[38;5;241m=\u001b[39mmanager)\n",
      "File \u001b[0;32m~/.local/lib/python3.10/site-packages/pandas/core/generic.py:293\u001b[0m, in \u001b[0;36mNDFrame._init_mgr\u001b[0;34m(cls, mgr, axes, dtype, copy)\u001b[0m\n\u001b[1;32m    291\u001b[0m \u001b[38;5;28;01mfor\u001b[39;00m a, axe \u001b[38;5;129;01min\u001b[39;00m axes\u001b[38;5;241m.\u001b[39mitems():\n\u001b[1;32m    292\u001b[0m     \u001b[38;5;28;01mif\u001b[39;00m axe \u001b[38;5;129;01mis\u001b[39;00m \u001b[38;5;129;01mnot\u001b[39;00m \u001b[38;5;28;01mNone\u001b[39;00m:\n\u001b[0;32m--> 293\u001b[0m         axe \u001b[38;5;241m=\u001b[39m \u001b[43mensure_index\u001b[49m\u001b[43m(\u001b[49m\u001b[43maxe\u001b[49m\u001b[43m)\u001b[49m\n\u001b[1;32m    294\u001b[0m         bm_axis \u001b[38;5;241m=\u001b[39m \u001b[38;5;28mcls\u001b[39m\u001b[38;5;241m.\u001b[39m_get_block_manager_axis(a)\n\u001b[1;32m    295\u001b[0m         mgr \u001b[38;5;241m=\u001b[39m mgr\u001b[38;5;241m.\u001b[39mreindex_axis(axe, axis\u001b[38;5;241m=\u001b[39mbm_axis)\n",
      "File \u001b[0;32m~/.local/lib/python3.10/site-packages/pandas/core/indexes/base.py:7568\u001b[0m, in \u001b[0;36mensure_index\u001b[0;34m(index_like, copy)\u001b[0m\n\u001b[1;32m   7566\u001b[0m         \u001b[38;5;28;01mreturn\u001b[39;00m Index(index_like, copy\u001b[38;5;241m=\u001b[39mcopy, tupleize_cols\u001b[38;5;241m=\u001b[39m\u001b[38;5;28;01mFalse\u001b[39;00m)\n\u001b[1;32m   7567\u001b[0m \u001b[38;5;28;01melse\u001b[39;00m:\n\u001b[0;32m-> 7568\u001b[0m     \u001b[38;5;28;01mreturn\u001b[39;00m \u001b[43mIndex\u001b[49m\u001b[43m(\u001b[49m\u001b[43mindex_like\u001b[49m\u001b[43m,\u001b[49m\u001b[43m \u001b[49m\u001b[43mcopy\u001b[49m\u001b[38;5;241;43m=\u001b[39;49m\u001b[43mcopy\u001b[49m\u001b[43m)\u001b[49m\n",
      "File \u001b[0;32m~/.local/lib/python3.10/site-packages/pandas/core/indexes/base.py:524\u001b[0m, in \u001b[0;36mIndex.__new__\u001b[0;34m(cls, data, dtype, copy, name, tupleize_cols)\u001b[0m\n\u001b[1;32m    521\u001b[0m         data \u001b[38;5;241m=\u001b[39m com\u001b[38;5;241m.\u001b[39masarray_tuplesafe(data, dtype\u001b[38;5;241m=\u001b[39m_dtype_obj)\n\u001b[1;32m    523\u001b[0m \u001b[38;5;28;01melif\u001b[39;00m is_scalar(data):\n\u001b[0;32m--> 524\u001b[0m     \u001b[38;5;28;01mraise\u001b[39;00m \u001b[38;5;28;43mcls\u001b[39;49m\u001b[38;5;241;43m.\u001b[39;49m\u001b[43m_raise_scalar_data_error\u001b[49m\u001b[43m(\u001b[49m\u001b[43mdata\u001b[49m\u001b[43m)\u001b[49m\n\u001b[1;32m    525\u001b[0m \u001b[38;5;28;01melif\u001b[39;00m \u001b[38;5;28mhasattr\u001b[39m(data, \u001b[38;5;124m\"\u001b[39m\u001b[38;5;124m__array__\u001b[39m\u001b[38;5;124m\"\u001b[39m):\n\u001b[1;32m    526\u001b[0m     \u001b[38;5;28;01mreturn\u001b[39;00m Index(np\u001b[38;5;241m.\u001b[39masarray(data), dtype\u001b[38;5;241m=\u001b[39mdtype, copy\u001b[38;5;241m=\u001b[39mcopy, name\u001b[38;5;241m=\u001b[39mname)\n",
      "File \u001b[0;32m~/.local/lib/python3.10/site-packages/pandas/core/indexes/base.py:5265\u001b[0m, in \u001b[0;36mIndex._raise_scalar_data_error\u001b[0;34m(cls, data)\u001b[0m\n\u001b[1;32m   5260\u001b[0m \u001b[38;5;129m@final\u001b[39m\n\u001b[1;32m   5261\u001b[0m \u001b[38;5;129m@classmethod\u001b[39m\n\u001b[1;32m   5262\u001b[0m \u001b[38;5;28;01mdef\u001b[39;00m \u001b[38;5;21m_raise_scalar_data_error\u001b[39m(\u001b[38;5;28mcls\u001b[39m, data):\n\u001b[1;32m   5263\u001b[0m     \u001b[38;5;66;03m# We return the TypeError so that we can raise it from the constructor\u001b[39;00m\n\u001b[1;32m   5264\u001b[0m     \u001b[38;5;66;03m#  in order to keep mypy happy\u001b[39;00m\n\u001b[0;32m-> 5265\u001b[0m     \u001b[38;5;28;01mraise\u001b[39;00m \u001b[38;5;167;01mTypeError\u001b[39;00m(\n\u001b[1;32m   5266\u001b[0m         \u001b[38;5;124mf\u001b[39m\u001b[38;5;124m\"\u001b[39m\u001b[38;5;132;01m{\u001b[39;00m\u001b[38;5;28mcls\u001b[39m\u001b[38;5;241m.\u001b[39m\u001b[38;5;18m__name__\u001b[39m\u001b[38;5;132;01m}\u001b[39;00m\u001b[38;5;124m(...) must be called with a collection of some \u001b[39m\u001b[38;5;124m\"\u001b[39m\n\u001b[1;32m   5267\u001b[0m         \u001b[38;5;124mf\u001b[39m\u001b[38;5;124m\"\u001b[39m\u001b[38;5;124mkind, \u001b[39m\u001b[38;5;132;01m{\u001b[39;00m\u001b[38;5;28mrepr\u001b[39m(data)\u001b[38;5;250m \u001b[39m\u001b[38;5;28;01mif\u001b[39;00m\u001b[38;5;250m \u001b[39m\u001b[38;5;129;01mnot\u001b[39;00m\u001b[38;5;250m \u001b[39m\u001b[38;5;28misinstance\u001b[39m(data,\u001b[38;5;250m \u001b[39mnp\u001b[38;5;241m.\u001b[39mgeneric)\u001b[38;5;250m \u001b[39m\u001b[38;5;28;01melse\u001b[39;00m\u001b[38;5;250m \u001b[39m\u001b[38;5;28mstr\u001b[39m(data)\u001b[38;5;132;01m}\u001b[39;00m\u001b[38;5;124m \u001b[39m\u001b[38;5;124m\"\u001b[39m\n\u001b[1;32m   5268\u001b[0m         \u001b[38;5;124m\"\u001b[39m\u001b[38;5;124mwas passed\u001b[39m\u001b[38;5;124m\"\u001b[39m\n\u001b[1;32m   5269\u001b[0m     )\n",
      "\u001b[0;31mTypeError\u001b[0m: Index(...) must be called with a collection of some kind, 'historical_data_all' was passed"
     ]
    }
   ],
   "source": [
    "# SPY stands for Standard & Poors\n",
    "\n",
    "# Dataframe of historical data, list of expiration dates\n",
    "ticker, option_expirations = get_historical_data_and_option_expirations('SPY')\n",
    "\n",
    "# Take the first option, which expires\n",
    "option_expiration_date = option_expirations.iloc[0][0]\n",
    "\n",
    "# Dataframe of calls and dataframe of puts for a single expiration date\n",
    "calls, puts = get_option_chain_by_expiration(ticker, option_expiration_date)\n",
    "\n",
    "write_dataframes_to_csv(pandas.DataFrame(ticker.history(period='max'), 'historical_data_all'))\n",
    "write_dataframes_to_csv(calls, 'calls_1')\n",
    "write_dataframes_to_csv(puts, 'puts_1')\n"
   ]
  },
  {
   "cell_type": "markdown",
   "metadata": {},
   "source": [
    "## The hedging function itself"
   ]
  },
  {
   "cell_type": "code",
   "execution_count": 42,
   "metadata": {},
   "outputs": [],
   "source": [
    "def delta_hedge():\n",
    "    expirations = pandas.read_csv('sp500_expiration_dates_2023-11-10 11:47:07.709639.csv', sep='\\t')\n",
    "    calls = pandas.read_csv('sp500_calls_2023-11-10 11:47:07.714281.csv', sep='\\t')\n",
    "\n",
    "    # This option has the last price and strike price very close to each other\n",
    "    # You can browse the option data to confirm\n",
    "    option = calls.iloc[8] \n",
    "    print(option)\n",
    "\n",
    "    # Get the days to maturity\n",
    "    days_to_maturity = datetime(2023, 12, 29) - datetime.today()\n",
    "    \n",
    "    # Get time to maturity in years\n",
    "    t = int(days_to_maturity.days)/365\n",
    "    \n",
    "    # Debug print\n",
    "    print(t)\n",
    "    print(\"Days to maturity in days is\", days_to_maturity.days) # 49 days_to_maturity\n",
    "    \n",
    "    # time at t = 0, the date when the date was pulled\n",
    "    t0 = datetime(2023, 11, 9).date()\n",
    "    print(\"Time at t = 0 aka when data was fetched\", t0)\n",
    "    \n",
    "    # call option with price C0 at time t0\n",
    "    c0 = option['lastPrice']\n",
    "    print('Price of Call option c0 in time t0', c0)\n",
    "\n",
    "    # Strike price\n",
    "    strike = option['strike']\n",
    "    print('Strike price is: ', strike)\n",
    "    \n",
    "    # US treasury 10-year bond yield?\n",
    "    r = 0.05\n",
    "    \n",
    "    # What would be a good value? 0.2 is used in the exercies\n",
    "    sigma = 0.2\n",
    "    \n",
    "    # Value of the BSM for the call option c0 at time t0\n",
    "    val = BSM(kind='call', S0=c0, K=strike, T=t, r=r, sigma=sigma).value() \n",
    "    print('value from BSM', val)\n",
    "    \n",
    "    # Delta of the BSM for the call option c0 at time t0\n",
    "    delta = BSM(kind='call', S0=c0, K=strike, T=t, r=r, sigma=sigma).delta()\n",
    "    print('Delta from BSM', delta)\n",
    "    \n",
    "    # Construct two portfolios:\n",
    "    # OP with a long position in a call option\n",
    "    # RE which is a short position of number of delta of the underlying asset\n",
    "    \n",
    "    # OP\n",
    "    op = c0\n",
    "    print('Long position in a call option c0 is ', c0)\n",
    "    \n",
    "    # RE\n",
    "    re = -1*delta * c0\n",
    "    print('Short position re ', re)\n",
    "\n",
    "    # Portfolio value according to lecture 7\n",
    "    portfolio_value = c0 - delta*c0\n",
    "    print('Portfolio value ', portfolio_value)\n",
    "\n",
    "    option_quantity = 1 #One call option ?\n",
    "\n",
    "    pandas.to_datetime(calls['lastTradeDate'])\n",
    "    sorted_calls = calls.sort_values(by=['lastTradeDate'])\n",
    "    # sorted_calls.to_csv('sp500_calls_sorted_by_date_' + str(datetime.today()) + '.csv', sep='\\t', index=False)\n",
    "\n",
    "    # Changes in the portfolio OP are neutralized by oppsite changes in the replicatin portfolio re\n",
    "    # rehedge every second day\n",
    "    # Compute how much every portfolio has changed\n",
    "    # Count mean squared error"
   ]
  },
  {
   "cell_type": "code",
   "execution_count": null,
   "metadata": {},
   "outputs": [],
   "source": [
    "delta_hedge()"
   ]
  }
 ],
 "metadata": {
  "kernelspec": {
   "display_name": "Python 3 (ipykernel)",
   "language": "python",
   "name": "python3"
  },
  "language_info": {
   "codemirror_mode": {
    "name": "ipython",
    "version": 3
   },
   "file_extension": ".py",
   "mimetype": "text/x-python",
   "name": "python",
   "nbconvert_exporter": "python",
   "pygments_lexer": "ipython3",
   "version": "3.10.12"
  }
 },
 "nbformat": 4,
 "nbformat_minor": 4
}
