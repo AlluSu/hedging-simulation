{
 "cells": [
  {
   "cell_type": "code",
   "execution_count": null,
   "metadata": {},
   "outputs": [],
   "source": [
    "# Install needed stuff to the Jupyter and kernel environment\n",
    "# Need to install only once, so commented out for cleaner output\n",
    "# %pip install pyarrow\n",
    "# %pip install pandas\n",
    "# %pip install numpy\n",
    "# %pip install matplotlib\n",
    "# %pip install pyfinance\n",
    "# %pip install yfinance\n",
    "# %pip install yahoo-fin"
   ]
  },
  {
   "cell_type": "code",
   "execution_count": null,
   "metadata": {},
   "outputs": [],
   "source": [
    "# Import needed stuff\n",
    "import sys\n",
    "import pyarrow.feather as feather\n",
    "import math\n",
    "import pandas\n",
    "import numpy as np\n",
    "import matplotlib.pyplot as plt\n",
    "from pyfinance.options import BSM\n",
    "import yfinance as yf\n",
    "from datetime import datetime, timedelta\n",
    "from yahoo_fin import options as op"
   ]
  },
  {
   "cell_type": "code",
   "execution_count": null,
   "metadata": {},
   "outputs": [],
   "source": [
    "# General Delta-hedging function\n",
    "def number_of_shares_to_buy(shares_per_contract, number_of_options, delta_of_option):\n",
    "    delta_of_underlying = 1 # why?\n",
    "\n",
    "    # Delta-hedging says:\n",
    "    # number_of_shares * delta_of_underlying + number_of_options * delta_of_option = 0\n",
    "    number_of_shares = (-number_of_options * delta_of_option / delta_of_underlying ) * shares_per_contract\n",
    "\n",
    "    print(\"To delta-hedge the portoflio, you need to\",(\"buy\" if number_of_shares >= 0 else \"sell\"), round(np.abs(number_of_shares),2), \"shares.\")\n",
    "    return number_of_shares\n"
   ]
  },
  {
   "cell_type": "code",
   "execution_count": null,
   "metadata": {},
   "outputs": [],
   "source": [
    "# General volatility function\n",
    "def get_volatility(stock_data):\n",
    "    log_returns = np.log(stock_data/stock_data.shift(1)).dropna()\n",
    "    volatility = log_returns.rolling(window = 21).std() * np.sqrt(252)\n",
    "    return volatility\n",
    "    "
   ]
  },
  {
   "cell_type": "code",
   "execution_count": null,
   "metadata": {},
   "outputs": [],
   "source": [
    "# General plot function\n",
    "def plot_stock_price_and_volatility(stock_prices, volatility):\n",
    "    fig, ax = plt.subplots()\n",
    "    ax.plot(stock_prices, color='red')\n",
    "    ax.set_xlabel('Date', fontsize = 14)\n",
    "    ax.set_ylabel('Underlying price', color='red', fontsize = 14)\n",
    "    \n",
    "    ax2 = ax.twinx()\n",
    "    ax2.plot(volatility, color = 'blue')\n",
    "    ax2.set_ylabel('Volatility', color = 'blue', fontsize = 14)\n",
    "    \n",
    "    plt.show()\n",
    "    "
   ]
  },
  {
   "cell_type": "markdown",
   "metadata": {},
   "source": [
    "## Let's use Apple stock data from Refinitiv here"
   ]
  },
  {
   "cell_type": "code",
   "execution_count": null,
   "metadata": {},
   "outputs": [],
   "source": [
    "# Read data and show it, data is from Refinitiv workspace\n",
    "apple_stock_data_as_df = feather.read_feather('../data/fe2.feather')\n",
    "\n",
    "# Set date to index instead of running index from 1..n\n",
    "date_as_index = apple_stock_data_as_df.set_index('Date', inplace=False)\n",
    "\n",
    "vola = get_volatility(date_as_index['Underlying'])\n",
    "\n",
    "# Set values\n",
    "shares_per_contract = 100 # How this is determined ?\n",
    "\n",
    "number_of_options = 1 # How this is determined? 1 stock = 1 option, n stocks = n options?\n",
    "\n",
    "# Use Black-Scholes model to compute the delta of the call option\n",
    "# T = maturity and r = interest rate just thrown there, no spesific reason I guess to be those\n",
    "call_delta = BSM(kind='call', S0=date_as_index['Underlying'].iloc[-1], K=date_as_index['Underlying'].iloc[-1], T=0.25, r=0.05, sigma=vola.iloc[-1]).delta()\n",
    "\n",
    "# Delta of the call option is always positive and between 0 and 1\n",
    "print(\"Delta of the call option:\", call_delta)\n",
    "\n",
    "# Use Black-Scholes model to compute the delta of the put option\n",
    "# Again T = maturity and r = interest rate are just thrown there, no spesific reason to be those (I think)\n",
    "put_delta = BSM(kind='put', S0=date_as_index['Underlying'].iloc[-1], K=date_as_index['Underlying'].iloc[-1], T=0.25, r=0.05, sigma=vola.iloc[-1]).delta()\n",
    "\n",
    "# Delta of the put option is always negative and between 0 and -1\n",
    "print(\"Delta of the put option:\", put_delta)\n",
    "\n",
    "# Get the amounts to balance, aka delta-hedge the portfolio\n",
    "how_many_shares_to_sell = number_of_shares_to_buy(shares_per_contract, number_of_options, call_delta)\n",
    "\n",
    "how_many_shares_to_buy = number_of_shares_to_buy(shares_per_contract, number_of_options, put_delta)\n",
    "\n",
    "plot_stock_price_and_volatility(date_as_index['Underlying'], vola)"
   ]
  },
  {
   "cell_type": "markdown",
   "metadata": {},
   "source": [
    "# Lets try with S&P 500 data"
   ]
  },
  {
   "cell_type": "code",
   "execution_count": null,
   "metadata": {},
   "outputs": [],
   "source": [
    "stock_name = 'SPY'\n",
    "years = 1\n",
    "stock_data = yf.download(tickers = stock_name, start = datetime.today() - timedelta(days=years*365), end = datetime.today())\n",
    "\n",
    "stock_data # Date as index, Open, High, Low, Close, Adj Close, Volume\n",
    "\n",
    "stock_prices = stock_data['Adj Close'] # Closing prices\n",
    "spy_vola = get_volatility(stock_prices)\n",
    "plot_stock_price_and_volatility(stock_prices, spy_vola)\n",
    "\n",
    "# Set values\n",
    "shares_per_contract = 100 # How this is determined ?\n",
    "\n",
    "number_of_options = 1 # How this is determined? 1 stock = 1 option, n stocks = n options?\n",
    "\n",
    "# Use Black-Scholes model to compute the delta of the call option\n",
    "# T = maturity and r = interest rate just thrown there, no spesific reason I guess to be those\n",
    "call_delta = BSM(kind='call', S0=stock_prices.iloc[-1], K=stock_prices.iloc[-1], T=0.25, r=0.05, sigma=spy_vola.iloc[-1]).delta()\n",
    "\n",
    "# Delta of the call option is always positive and between 0 and 1\n",
    "print(\"Delta of the call option:\", call_delta)\n",
    "\n",
    "# Use Black-Scholes model to compute the delta of the put option\n",
    "# Again T = maturity and r = interest rate are just thrown there, no spesific reason to be those (I think)\n",
    "put_delta = BSM(kind='put', S0=stock_prices.iloc[-1], K=stock_prices.iloc[-1], T=0.25, r=0.05, sigma=spy_vola.iloc[-1]).delta()\n",
    "\n",
    "# Delta of the put option is always negative and between 0 and -1\n",
    "print(\"Delta of the put option:\", put_delta)\n",
    "\n",
    "# Get the amounts to balance, aka delta-hedge the portfolio\n",
    "how_many_shares_to_sell = number_of_shares_to_buy(shares_per_contract, number_of_options, call_delta)\n",
    "\n",
    "how_many_shares_to_buy = number_of_shares_to_buy(shares_per_contract, number_of_options, put_delta)"
   ]
  },
  {
   "cell_type": "markdown",
   "metadata": {},
   "source": [
    "## Hedging assigment"
   ]
  },
  {
   "cell_type": "code",
   "execution_count": null,
   "metadata": {},
   "outputs": [],
   "source": [
    "print(stock_data) # our data\n",
    "\n",
    "# days_to_maturity = 45/365 # 45 days to maturity ?\n",
    "# t0 =  datetime.now() - timedelta(days = 45)\n",
    "# t0 = stock_data.index() # time at t = 0, this takes the first date of the first value of the dataframe\n",
    "# c0 = stock_data['Adj Close'].iloc[0] # call option with price C0 at time t0\n",
    "# i0 = BSM(kind='call', S0=c0, K=c0, T=days_to_maturity, r=0.05, sigma=0.5).implied_vol(2.5) # implied volatility at t=0 to get delta0\n",
    "\n",
    "# print(t0)\n",
    "# print(c0)\n",
    "# print(i0)\n",
    "\n",
    "# Construct two portfolios\n",
    "# op = long position in one call, op0 = c0\n",
    "# re = short position containing delta amount of the underlying asset S, re0 = delta0 * s0 (stock price at 0)\n",
    "# Changes in the protfolio OP are neutralized by oppsite changes in the replicatin portfolio re\n",
    "# rehedge every second day\n",
    "# Compute how much every portfolio has changed\n",
    "# Count mean squared error\n"
   ]
  },
  {
   "cell_type": "markdown",
   "metadata": {},
   "source": [
    "# Fetch real option data using Yahoo_fin"
   ]
  },
  {
   "cell_type": "code",
   "execution_count": null,
   "metadata": {},
   "outputs": [],
   "source": [
    "ticker = 'SPY'\n",
    "expiration_dates = op.get_expiration_dates(ticker)\n",
    "exp = pandas.DataFrame(expiration_dates)\n",
    "# print(exp)\n",
    "calls = op.get_calls(ticker, date = expiration_dates[14]) # Chose 14 \n",
    "c = pandas.DataFrame(calls)\n",
    "print(c)\n",
    "\n",
    "long_position_in_call = c.iloc[0]\n",
    "print(long_position_in_call)\n",
    "print(long_position_in_call['Strike'])\n",
    "\n",
    "\n",
    "#puts = op.get_puts(ticker, date = expiration_dates[14])\n",
    "#print(puts)\n",
    "#chain_data = op.get_options_chain(ticker, date=expiration_dates[14])\n",
    "#print(chain_data)\n"
   ]
  },
  {
   "cell_type": "markdown",
   "metadata": {},
   "source": [
    "# Fetch using yfinance"
   ]
  },
  {
   "cell_type": "code",
   "execution_count": null,
   "metadata": {},
   "outputs": [],
   "source": [
    "sp500 = yf.Ticker(ticker)\n",
    "expiration_dates = pandas.DataFrame(data=sp500.options)\n",
    "#print(expiration_dates)\n",
    "\n",
    "option_chain_for_expiration = sp500.option_chain(expiration_dates.iloc[13][0]) # expiration 29.12.2023\n",
    "#print(option_chain_for_expiration)\n",
    "\n",
    "print('============== CALLS ==============')\n",
    "\n",
    "opt_calls = option_chain_for_expiration.calls\n",
    "print(opt_calls)\n",
    "\n",
    "# print('============== PUTS ==============')\n",
    "\n",
    "# opt_puts = option_chain_for_expiration.puts\n",
    "# print(opt_puts)"
   ]
  },
  {
   "cell_type": "code",
   "execution_count": null,
   "metadata": {},
   "outputs": [],
   "source": []
  }
 ],
 "metadata": {
  "kernelspec": {
   "display_name": "Python 3 (ipykernel)",
   "language": "python",
   "name": "python3"
  },
  "language_info": {
   "codemirror_mode": {
    "name": "ipython",
    "version": 3
   },
   "file_extension": ".py",
   "mimetype": "text/x-python",
   "name": "python",
   "nbconvert_exporter": "python",
   "pygments_lexer": "ipython3",
   "version": "3.10.12"
  }
 },
 "nbformat": 4,
 "nbformat_minor": 4
}
