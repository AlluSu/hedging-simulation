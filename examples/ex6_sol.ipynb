{
 "cells": [
  {
   "cell_type": "markdown",
   "metadata": {},
   "source": [
    "## TU-E2210 Financial Engineering I\n",
    "Exercise 6 solutions\n",
    "Kaila, Toepfer\n",
    "Python version \n",
    "3.11.2022"
   ]
  },
  {
   "cell_type": "markdown",
   "metadata": {},
   "source": [
    "If you don't have ```pyfinance``` installed, run the following:"
   ]
  },
  {
   "cell_type": "code",
   "execution_count": 2,
   "metadata": {},
   "outputs": [
    {
     "name": "stdout",
     "output_type": "stream",
     "text": [
      "Collecting pyfinance\n",
      "  Downloading pyfinance-1.3.0-py3-none-any.whl (57 kB)\n",
      "\u001b[K     |████████████████████████████████| 57 kB 1.8 MB/s eta 0:00:011\n",
      "\u001b[?25hRequirement already satisfied: statsmodels in /opt/conda/lib/python3.8/site-packages (from pyfinance) (0.12.1)\n",
      "Requirement already satisfied: beautifulsoup4 in /opt/conda/lib/python3.8/site-packages (from pyfinance) (4.9.3)\n",
      "Requirement already satisfied: seaborn in /opt/conda/lib/python3.8/site-packages (from pyfinance) (0.11.1)\n",
      "Requirement already satisfied: scikit-learn in /opt/conda/lib/python3.8/site-packages (from pyfinance) (0.23.2)\n",
      "Requirement already satisfied: xlrd in /opt/conda/lib/python3.8/site-packages (from pyfinance) (1.2.0)\n",
      "Requirement already satisfied: matplotlib in /opt/conda/lib/python3.8/site-packages (from pyfinance) (3.3.3)\n",
      "Requirement already satisfied: numpy in /opt/conda/lib/python3.8/site-packages (from pyfinance) (1.19.5)\n",
      "Requirement already satisfied: requests in /opt/conda/lib/python3.8/site-packages (from pyfinance) (2.25.1)\n",
      "Requirement already satisfied: scipy in /opt/conda/lib/python3.8/site-packages (from pyfinance) (1.5.3)\n",
      "Requirement already satisfied: pandas-datareader in /opt/conda/lib/python3.8/site-packages (from pyfinance) (0.8.1)\n",
      "Requirement already satisfied: pandas>=0.20 in /opt/conda/lib/python3.8/site-packages (from pyfinance) (1.1.5)\n",
      "Requirement already satisfied: python-dateutil>=2.7.3 in /opt/conda/lib/python3.8/site-packages (from pandas>=0.20->pyfinance) (2.8.1)\n",
      "Requirement already satisfied: pytz>=2017.2 in /opt/conda/lib/python3.8/site-packages (from pandas>=0.20->pyfinance) (2020.5)\n",
      "Requirement already satisfied: six>=1.5 in /opt/conda/lib/python3.8/site-packages (from python-dateutil>=2.7.3->pandas>=0.20->pyfinance) (1.15.0)\n",
      "Requirement already satisfied: soupsieve>1.2 in /opt/conda/lib/python3.8/site-packages (from beautifulsoup4->pyfinance) (2.0.1)\n",
      "Requirement already satisfied: pillow>=6.2.0 in /opt/conda/lib/python3.8/site-packages (from matplotlib->pyfinance) (8.0.1)\n",
      "Requirement already satisfied: pyparsing!=2.0.4,!=2.1.2,!=2.1.6,>=2.0.3 in /opt/conda/lib/python3.8/site-packages (from matplotlib->pyfinance) (2.4.7)\n",
      "Requirement already satisfied: cycler>=0.10 in /opt/conda/lib/python3.8/site-packages (from matplotlib->pyfinance) (0.10.0)\n",
      "Requirement already satisfied: kiwisolver>=1.0.1 in /opt/conda/lib/python3.8/site-packages (from matplotlib->pyfinance) (1.3.1)\n",
      "Requirement already satisfied: lxml in /opt/conda/lib/python3.8/site-packages (from pandas-datareader->pyfinance) (4.6.2)\n",
      "Requirement already satisfied: chardet<5,>=3.0.2 in /opt/conda/lib/python3.8/site-packages (from requests->pyfinance) (4.0.0)\n",
      "Requirement already satisfied: urllib3<1.27,>=1.21.1 in /opt/conda/lib/python3.8/site-packages (from requests->pyfinance) (1.26.2)\n",
      "Requirement already satisfied: idna<3,>=2.5 in /opt/conda/lib/python3.8/site-packages (from requests->pyfinance) (2.10)\n",
      "Requirement already satisfied: certifi>=2017.4.17 in /opt/conda/lib/python3.8/site-packages (from requests->pyfinance) (2021.5.30)\n",
      "Requirement already satisfied: joblib>=0.11 in /opt/conda/lib/python3.8/site-packages (from scikit-learn->pyfinance) (1.0.0)\n",
      "Requirement already satisfied: threadpoolctl>=2.0.0 in /opt/conda/lib/python3.8/site-packages (from scikit-learn->pyfinance) (2.1.0)\n",
      "Requirement already satisfied: patsy>=0.5 in /opt/conda/lib/python3.8/site-packages (from statsmodels->pyfinance) (0.5.1)\n",
      "Collecting xmltodict\n",
      "  Downloading xmltodict-0.12.0-py2.py3-none-any.whl (9.2 kB)\n",
      "Installing collected packages: xmltodict, pyfinance\n",
      "Successfully installed pyfinance-1.3.0 xmltodict-0.12.0\n"
     ]
    }
   ],
   "source": [
    "import sys\n",
    "!{sys.executable} -m pip install pyfinance"
   ]
  },
  {
   "cell_type": "markdown",
   "metadata": {},
   "source": [
    "These are the packages used in this exercise set."
   ]
  },
  {
   "cell_type": "code",
   "execution_count": 1,
   "metadata": {},
   "outputs": [],
   "source": [
    "import numpy as np\n",
    "import matplotlib.pyplot as plt\n",
    "from scipy.stats import norm\n",
    "from pyfinance.options import BSM"
   ]
  },
  {
   "cell_type": "markdown",
   "metadata": {},
   "source": [
    "These exercises are partly done with R. Remember that you can use R only for computation. Before writing code, you must understand each problem thoroughly.\n",
    "\n",
    "1. A portfolio containing derivative securities on only one asset has Delta 5000 and Gamma -200. A call on the asset with $\\Delta (C)=0.4$ and $\\Gamma (C)=0.05$, and a put on the same asset, with $\\Delta (P)=-0.5$ and $\\Gamma (P)=0.07$, are currently traded. How do you make the portfolio Delta-neutral and Gamma-neutral?\n",
    "\n",
    "### Solution\n",
    "\n",
    "Take positions of size $x_1$ and $x_2$, respectively, in the call and put options specified above. The value $\\Pi$ of the new portfolio is $\\Pi = V+x_1C +x_2P$, where V is the value of the original portfolio. This portfolio will be Delta- and Gamma-neutral, provided that $x_1$ and $x_2$ are chosen such that $$\\begin{aligned}\n",
    "\\Delta (\\Pi) & = \\Delta (V) + x_1\\Delta (C)+x_2\\Delta (P)= 5000+0.4x_1-0.5x_2=0\\nonumber\\\\\n",
    "\\Gamma (\\Pi) & = \\Gamma (V) +x_1\\Gamma (C)+x_2\\Gamma(P) =-200+0.05x_1+0.07x_2=0.\n",
    "\\end{aligned}$$ The solution to this linear system is$$x_1=-\\frac{250000}{53}= -4716.98\\mathrm{\\ \\ and\\ \\ }x_2=\\frac{330000}{53}=6226.42.$$ To make the initial portfolio as close to Delta- and Gamma-neutral as possible by only trading in the given call and put options, 4717 calls must be sold and 6226 put options must be bought. The Delta and Gamma of the new portfolios are $$\\begin{aligned}\n",
    "\\Delta (\\Pi) & = \\Delta (V) -4717\\Delta (C)+6226\\Delta (P)= 0.02\\nonumber\\\\\n",
    "\\Gamma (\\Pi) & = \\Gamma (V) -4717\\Gamma (C)+6226\\Gamma(P) =-0.03.\n",
    "\\end{aligned}$$ To understand how well hedged the portfolio $\\Pi$ is, recall that the initial portfolio had $\\Delta (V)= 5000$ and $\\Gamma (V)=-200$.\n",
    "\n",
    "We write $0.4x_1-0.5x_2=-5000$ and $0.05x_1+0.07x_2=200$. We then denote by matrix $A$ the left-side constants, by vector $x$ the variables $x_1$ and $x_2$, and by vector $b$ the right-side constants, so that we have an equation $Ax=b$.\n",
    "\n",
    "With ```Python```: In the console, use ```np.linalg.solve```."
   ]
  },
  {
   "cell_type": "markdown",
   "metadata": {},
   "source": [
    "*Delta* and *Gamma* for call and put options"
   ]
  },
  {
   "cell_type": "code",
   "execution_count": 2,
   "metadata": {},
   "outputs": [],
   "source": [
    "A = [ [0.4, -0.5], [0.05,  0.07] ]"
   ]
  },
  {
   "cell_type": "markdown",
   "metadata": {},
   "source": [
    "*Delta* and *Gamma* for the initial portfolios"
   ]
  },
  {
   "cell_type": "code",
   "execution_count": 3,
   "metadata": {},
   "outputs": [],
   "source": [
    "b = [ -5000, 200 ]"
   ]
  },
  {
   "cell_type": "markdown",
   "metadata": {},
   "source": [
    "Solution for ```Ax = b```"
   ]
  },
  {
   "cell_type": "code",
   "execution_count": 4,
   "metadata": {},
   "outputs": [
    {
     "name": "stdout",
     "output_type": "stream",
     "text": [
      "[-4716.98113208  6226.41509434]\n"
     ]
    }
   ],
   "source": [
    "X = np.linalg.solve(A, b)\n",
    "print(X)"
   ]
  },
  {
   "cell_type": "markdown",
   "metadata": {},
   "source": [
    "2.  You are long 1000 call options with strike 90 and maturity of three months. Assume that the underlying asset has a lognormal distribution with drift μ = 0.08 $\\mu=0.08$ and volatility $\\sigma=0.2$ and that the spot price of the asset is 92. The risk-free rate is $r=0.05$. What Delta-hedging position do you need to take? Notice that maturities are given in years so 3 months is $T=0.25$.\n",
    "\n",
    "    ### Solution\n",
    "\n",
    "    A long call position is Delta-hedged by a short position in the underlying asset. Delta-hedging the long position in 1000 calls is done by shorting$$1000\\Delta (C)=1000\\mathcal{N}(d_1)=653.5$$ units of the underlying asset, where $$\\begin{aligned}\n",
    "    d_1 & = \\frac{\\ln (S/T)+(r+\\sigma^2/2)(T-t)}{\\sigma\\sqrt{T-t}}\\mathrm{\\ \\ and}\\nonumber\\\\\n",
    "    \\mathcal{N} (z) & = \\frac{1}{\\sqrt{2\\pi}}\\int_{-\\infty}^z e^{-y^2/2}dy.\n",
    "    \\end{aligned}$$ with $S=92$, $E=90$, $T=0.25$, $\\sigma=0.2$, and $r=0.05$.\n",
    "\n",
    "    With `Python`: The Delta of the Call option can be computed by typing `norm.cdf(d1)`, where"
   ]
  },
  {
   "cell_type": "code",
   "execution_count": 5,
   "metadata": {},
   "outputs": [],
   "source": [
    "S = 92      # Spot price\n",
    "E = 90      # Strike price\n",
    "T = 3/12    # 3 months\n",
    "t = 0       # Current time = 0\n",
    "sigma = 0.2 # Volatility\n",
    "r = 0.05    # Risk-free rate\n",
    "eps = np.finfo(float).eps"
   ]
  },
  {
   "cell_type": "markdown",
   "metadata": {},
   "source": [
    "We use the first term from the Black-Scholes formula:"
   ]
  },
  {
   "cell_type": "code",
   "execution_count": 6,
   "metadata": {},
   "outputs": [],
   "source": [
    "d1 = (np.log(S/E) + (r + sigma ** 2 / 2) * (T - t)) / (sigma * np.sqrt(T - t) + eps)"
   ]
  },
  {
   "cell_type": "markdown",
   "metadata": {},
   "source": [
    "Normal cumulative distribution function.\n",
    "\n",
    "This is the *delta* for one call options."
   ]
  },
  {
   "cell_type": "code",
   "execution_count": 7,
   "metadata": {},
   "outputs": [
    {
     "name": "stdout",
     "output_type": "stream",
     "text": [
      "Delta: 0.653501 \n",
      "\n"
     ]
    }
   ],
   "source": [
    "Nd1 = norm.cdf(d1)\n",
    "\n",
    "print('Delta: %f \\n'%(Nd1))"
   ]
  },
  {
   "cell_type": "markdown",
   "metadata": {},
   "source": [
    "Alternative way: use the ```BSM``` function"
   ]
  },
  {
   "cell_type": "code",
   "execution_count": 8,
   "metadata": {},
   "outputs": [
    {
     "name": "stdout",
     "output_type": "stream",
     "text": [
      "Delta with blsdelta: 0.6535 \n",
      "\n",
      "Required number of options: 654 \n",
      "\n"
     ]
    }
   ],
   "source": [
    "delta_alt =  BSM(kind='call', S0=S, K=E, T=(T - t), r=r, sigma=sigma).delta() \n",
    "\n",
    "print('Delta with blsdelta: %.4f \\n' %(delta_alt))\n",
    "\n",
    "print(\"Required number of options: %.0f \\n\"%(np.round(1000*Nd1)))"
   ]
  },
  {
   "cell_type": "markdown",
   "metadata": {},
   "source": [
    "Note that for Delta-hedging purposes (or even for pricing options in the Black-Scholes model), it is not necessary to know the drift $\\mu$ of the underlying asset, since $\\Delta (C)$ does not depend on $\\mu$.\n",
    "\n",
    "3.  Solve with `Python` the vega-delta hedging example in the end of Lecture 6.\n",
    "\n",
    "4.  You buy $1000$ six-month ATM (at-the-money) call options on a nondividend-paying asset that follows a lognormal process with volatility $0.3$. The spot price is $100$. Assume that the risk-free interest rate is $r=0.05$.\n",
    "\n",
    "    a)  How much money do you pay for the options?\n",
    "\n",
    "    b)  How much do you need to buy/short the underlying asset to delta-hedge the call position?\n",
    "\n",
    "    c)  Next trading day, the asset opens at 98. What is the value of your position now (the option and shares position)? Recall that there are 252 trading days in one year.\n",
    "\n",
    "    d)  Had you not delta-hedged your position, how much would you have lost due to the fall in the price of the underlying asset?\n",
    "\n",
    "    ### Solution\n",
    "\n",
    "    a)  Using the Black-Scholes formula with inputs $S_1=E=100$, $T=0.5$, $\\sigma =0.3$, $r=0.05$, we find that the value of one call option is $C_1=9.634877$. Therefore, 9634.88 must be paid for 1000 calls. With `Python`, the call price can be computed with the function `BSM;`."
   ]
  },
  {
   "cell_type": "code",
   "execution_count": 9,
   "metadata": {},
   "outputs": [],
   "source": [
    "S = 100\n",
    "E = 100 #ATM\n",
    "sigma = 0.3\n",
    "dividend = 0\n",
    "r = 0.05\n",
    "T = 6/12 # this is in years\n",
    "N = 1000;"
   ]
  },
  {
   "cell_type": "markdown",
   "metadata": {},
   "source": [
    " Then the option price is"
   ]
  },
  {
   "cell_type": "code",
   "execution_count": 10,
   "metadata": {},
   "outputs": [
    {
     "name": "stdout",
     "output_type": "stream",
     "text": [
      "Price per option: 9.635 \n",
      "To pay: 9634.88 \n",
      "\n"
     ]
    }
   ],
   "source": [
    "d1 = (np.log(S/E) + (r + sigma ** 2 / 2) * T) /(sigma * np.sqrt(T) + eps)\n",
    "d2 = d1 - sigma * np.sqrt(T)\n",
    "C = norm.cdf(d1) * S - E * np.exp(-r * T) * norm.cdf(d2)\n",
    "\n",
    "Cdirectly = BSM(kind='call', S0=S, K=E, T=T, r=r, sigma=sigma).value()\n",
    "\n",
    "print('Price per option: %.3f \\nTo pay: %.2f \\n'%( C, 1000*C) )"
   ]
  },
  {
   "cell_type": "markdown",
   "metadata": {},
   "source": [
    "b)  To delta-hedge the long call position you need to short$$1000\\Delta(C)=1000\\mathcal{N}(d_1)=589$$units of the underlying. Recall the `BSM` function to solve this with `Python`.\n",
    "\n",
    "Then we can calculate (remember to round-off in the end, one cannot trade fractions of options):"
   ]
  },
  {
   "cell_type": "code",
   "execution_count": 11,
   "metadata": {},
   "outputs": [
    {
     "name": "stdout",
     "output_type": "stream",
     "text": [
      "Stocks required to delta-hedge: 589 \n",
      "\n",
      "Value of position: -49265.12 \n",
      "\n"
     ]
    }
   ],
   "source": [
    "delta_pf = 1000 * BSM(kind='call', S0=S, K=E, T=T, r=r, sigma=sigma).delta()\n",
    "\n",
    "nHedge = np.round(delta_pf)\n",
    "\n",
    "print('Stocks required to delta-hedge: %d \\n'%(nHedge))\n",
    "print('Value of position: %.2f \\n'%( N * C - nHedge * S))"
   ]
  },
  {
   "cell_type": "markdown",
   "metadata": {},
   "source": [
    "c)  The new spot price and maturity are S2 = 98 $S_2=98$ and T2 = 125/252 $T_2=125/252$. The value of the call option is $C_2=8.453134$ and therefore the value of the position is$$1000C_2-589S_2=-49268.89.$$Recalling that there are 252 trading days in one year and notating the portfolio as `N` call options and `Nhedge` assets:"
   ]
  },
  {
   "cell_type": "code",
   "execution_count": 12,
   "metadata": {},
   "outputs": [
    {
     "name": "stdout",
     "output_type": "stream",
     "text": [
      "New value of position: -49268.88 \n",
      "\n"
     ]
    }
   ],
   "source": [
    "S1 = 98 # new spot\n",
    "T1 = T - 1/252 #maturity diminishes\n",
    "\n",
    "C1 = BSM(kind='call', S0=S1, K=E, T=T1, r=r, sigma=sigma).value()\n",
    "\n",
    "\n",
    "   \n",
    "print('New value of position: %.2f \\n'%( N * C1 - nHedge * S1))"
   ]
  },
  {
   "cell_type": "markdown",
   "metadata": {},
   "source": [
    "d)  If the long call position is not delta-hedged, the loss due to the fall in the spot price of the underlying asset is $$1000(C_2-C_1)=-1181.75.$$ For the delta-hedged portfolio, the loss incurred is $$(1000C_2-589S_2)-(1000C_1-589S_1)=-3.75.$$ As expected, the loss is much smaller when the call position is delta-hedged.\n",
    "\n",
    "In R, we can calculate this: Had you not delta-hedged your position, how much would you have lost due to the fall in the price of the underlying asset?"
   ]
  },
  {
   "cell_type": "code",
   "execution_count": 13,
   "metadata": {},
   "outputs": [
    {
     "data": {
      "text/plain": [
       "-1181.7533164310703"
      ]
     },
     "execution_count": 13,
     "metadata": {},
     "output_type": "execute_result"
    }
   ],
   "source": [
    " N * (C1 - C)"
   ]
  },
  {
   "cell_type": "code",
   "execution_count": 14,
   "metadata": {},
   "outputs": [
    {
     "name": "stdout",
     "output_type": "stream",
     "text": [
      "Loss without hedging: -1181.75 \n",
      "\n",
      "Loss with hedging:    -3.75 \n",
      "\n"
     ]
    }
   ],
   "source": [
    "print('Loss without hedging: %.2f \\n'%(N * (C1 - C)))\n",
    "print('Loss with hedging:    %.2f \\n' %((N * C1 - nHedge * S1) - (N * C - nHedge * S)))"
   ]
  },
  {
   "cell_type": "markdown",
   "metadata": {},
   "source": [
    "5.  Black-Scholes greeks, vega\n",
    "\n",
    "    The Black-Scholes formula for call options is given by $$\\begin{aligned}\n",
    "    C(t,S,E,T,\\sigma) & = S\\mathcal{N}(d_+)-Ee^{-r(T-t)}\\mathcal{N}(d_-),\\mathrm{\\ \\ }S=S_t\\nonumber\\\\\n",
    "    d_{\\pm} & = \\frac{\\ln (S/T)+(r\\pm\\sigma^2/2)(T-t)}{\\sigma\\sqrt{T-t}}\\mathrm{\\ \\ and}\\nonumber\\\\\n",
    "    \\mathcal{N} (z) & = \\frac{1}{\\sqrt{2\\pi}}\\int_{-\\infty}^z e^{-y^2/2}dy.\n",
    "    \\end{aligned}$$ Show that$$Ee^{-r(T-t)}\\mathcal{N}'(d_-)=S\\mathcal{N}'(d_+).$$You will need $$\\mathcal{N}'(x)=\\frac{\\exp (-x^2/2)}{\\sqrt{2\\pi}}$$ How is this result related to vega, $\\kappa$, the sensitivity of Black-Scholes prices with respect to the volatility?\n",
    "\n",
    "    ### Solution\n",
    "\n",
    "    $$\n",
    "    \\begin{aligned}\n",
    "    Ee^{-r(T-t)}\\mathcal{N}'(d_-) & = Ee^{-r(T-t)}\\frac{e^{-d^2_-/2}}{\\sqrt{2\\pi}}\\nonumber\\\\\n",
    "     & = Ee^{-r(T-t)}\\frac{e^{-(d_+-\\sigma\\sqrt{T-t})^2/2}}{\\sqrt{2\\pi}} \\nonumber\\\\\n",
    "     & = Ee^{-r(T-t)}e^{\\sigma\\sqrt{T-t}d_+}e^{-\\sigma^2(T-t)/2}\\mathcal{N}'(d_+) \\nonumber\\\\\n",
    "     & = Ee^{-r(T-t)}\\frac{S}{E}e^{(r+\\sigma^2/2)(T-t)}e^{-\\sigma^2(T-t)/2}\\mathcal{N}'(d_+) \\nonumber\\\\ \n",
    "     & = S\\mathcal{N}'(d_+) .\n",
    "    \\end{aligned}\n",
    "    $$ The vega of a European call is $\\kappa=S\\mathcal{N}'(d_+)\\sqrt{t}=Ee^{-r(T-t)}\\mathcal{N}'(d_-)\\sqrt{t}$.\n",
    "\n",
    "6.  Black-Scholes Greeks, delta\n",
    "\n",
    "    The delta in the Black-Scholes model is the partial derivative of the option price with respect to the underlying asset: $\\Delta:=\\partial C(t,S)/\\partial S$. Show that$$\\Delta =\\mathcal{N}(d_+).$$ Remember that $d_+$ is a function of $S$ and of $t$.\n",
    "\n",
    "    ### Solution\n",
    "\n",
    "    Now $$\\frac{\\partial}{\\partial S}d_{\\pm}=\\frac{1}{S\\sigma\\sqrt{T-t}}.$$Hence, using the partial derivative above and the equality in a), we get$$\\begin{aligned}\n",
    "    \\frac{\\partial}{\\partial S}C(t,S) & =\\mathcal{N}(d_+)+S\\mathcal{N}'(d_+)\\frac{\\partial}{\\partial S}d_+-Ee^{-r(T-t)}\\mathcal{N}'(d_-)\\frac{\\partial}{\\partial S}d_-\\nonumber\\\\\n",
    "    & = \\mathcal{N}(d_+) +\\frac{\\mathcal{N}'(d_+)}{\\sigma\\sqrt{T-t}}-\\frac{\\mathcal{N}'(d_+)}{\\sigma\\sqrt{T-t}}\\nonumber\\\\\n",
    "    & = \\mathcal{N}(d_+).\n",
    "    \\end{aligned}$$\n",
    "\n",
    "7.  EXTRA: Taking positions\n",
    "\n",
    "    Copy the file `FEexercise7_2022Data.xls` from the course homepage (this was the file from Exercise 5). Based on the S&P100 option prices, try to make portfolios such as butterfly, bull spread, bear spread, etc. You can then follow how the value of the portfolio changes as a function of time to maturity.\n",
    "\n",
    "    You can simply draw three figures, one for the price of the underlying, one for the separate prices of the options and one for the value of the portfolio. Remember that you can take either a long or a short position regarding the portfolio (if you assume that the price of the underlying will move a little, you can take a long position in a butterfly; if you assume that the price of the underlying will move a lot, you can short a butterfly.) Try different strike prices when taking positions and look how it affects the value of the corresponding portfolio.\n",
    "\n",
    "    The exercises have partly been taken from Stefanica, Dan. *A Primer for the Mathematics of Financial Engineering*. Fe Press, 2011.\n"
   ]
  },
  {
   "cell_type": "markdown",
   "metadata": {},
   "source": [
    "------------------------------------------------"
   ]
  }
 ],
 "metadata": {
  "kernelspec": {
   "display_name": "Python 3 (ipykernel)",
   "language": "python",
   "name": "python3"
  },
  "language_info": {
   "codemirror_mode": {
    "name": "ipython",
    "version": 3
   },
   "file_extension": ".py",
   "mimetype": "text/x-python",
   "name": "python",
   "nbconvert_exporter": "python",
   "pygments_lexer": "ipython3",
   "version": "3.9.10"
  },
  "varInspector": {
   "cols": {
    "lenName": 16,
    "lenType": 16,
    "lenVar": 40
   },
   "kernels_config": {
    "python": {
     "delete_cmd_postfix": "",
     "delete_cmd_prefix": "del ",
     "library": "var_list.py",
     "varRefreshCmd": "print(var_dic_list())"
    },
    "r": {
     "delete_cmd_postfix": ") ",
     "delete_cmd_prefix": "rm(",
     "library": "var_list.r",
     "varRefreshCmd": "cat(var_dic_list()) "
    }
   },
   "types_to_exclude": [
    "module",
    "function",
    "builtin_function_or_method",
    "instance",
    "_Feature"
   ],
   "window_display": false
  }
 },
 "nbformat": 4,
 "nbformat_minor": 4
}
