{
 "cells": [
  {
   "cell_type": "code",
   "execution_count": 1,
   "metadata": {},
   "outputs": [],
   "source": [
    "# Install needed stuff to the Jupyter and kernel environment\n",
    "# Need to install only once, so commented out for cleaner output\n",
    "# %pip install pyarrow\n",
    "# %pip install pandas\n",
    "# %pip install numpy\n",
    "# %pip install matplotlib\n",
    "# %pip install pyfinance\n",
    "# %pip install yfinance\n",
    "# %pip install yahoo-fin"
   ]
  },
  {
   "cell_type": "code",
   "execution_count": 2,
   "metadata": {},
   "outputs": [],
   "source": [
    "# Import needed stuff\n",
    "import sys\n",
    "import pyarrow.feather as feather\n",
    "import math\n",
    "import pandas\n",
    "import numpy as np\n",
    "import matplotlib.pyplot as plt\n",
    "from pyfinance.options import BSM\n",
    "import yfinance as yf\n",
    "from datetime import datetime, timedelta, date\n",
    "from yahoo_fin import options as op"
   ]
  },
  {
   "cell_type": "markdown",
   "metadata": {},
   "source": [
    "# Hedging assigment"
   ]
  },
  {
   "cell_type": "markdown",
   "metadata": {},
   "source": [
    "# Fetch SP500 index and option data via ```yfinance```"
   ]
  },
  {
   "cell_type": "markdown",
   "metadata": {},
   "source": [
    "### Data fetching and wrangling"
   ]
  },
  {
   "cell_type": "code",
   "execution_count": 3,
   "metadata": {},
   "outputs": [],
   "source": [
    "# Get data from Yahoo Finance\n",
    "def get_historical_data_and_option_expirations(ticker):\n",
    "    ticker_data = yf.Ticker(ticker)\n",
    "    \n",
    "    # Get expiration dates of the options to a dataframe\n",
    "    expiration_dates = pandas.DataFrame(data=ticker_data.options)\n",
    "    \n",
    "    return ticker_data, expiration_dates"
   ]
  },
  {
   "cell_type": "code",
   "execution_count": 4,
   "metadata": {},
   "outputs": [],
   "source": [
    "def get_option_chain_by_expiration(data, expiration_date):\n",
    "    # Get the option chain for the data\n",
    "    option_chain_for_expiration = data.option_chain(expiration_date)\n",
    "    \n",
    "    # We will use call options for the hedging assignment, construct them to a dataframe\n",
    "    opt_calls = pandas.DataFrame(option_chain_for_expiration.calls)\n",
    "    \n",
    "    # Get also the Put options and construct them to a dataframe\n",
    "    # Optional and not needed yet in the assignment\n",
    "    opt_puts = pandas.DataFrame(option_chain_for_expiration.puts)\n",
    "\n",
    "    return opt_calls, opt_puts \n",
    "    "
   ]
  },
  {
   "cell_type": "code",
   "execution_count": 5,
   "metadata": {},
   "outputs": [],
   "source": [
    "def write_dataframes_to_csv(df, file_name):\n",
    "    df.to_csv(str(file_name) + '.csv', sep='\\t', index=False)"
   ]
  },
  {
   "cell_type": "code",
   "execution_count": 10,
   "metadata": {},
   "outputs": [],
   "source": [
    "# SPY stands for Standard & Poors\n",
    "\n",
    "# Dataframe of historical data, list of expiration dates\n",
    "ticker, option_expirations = get_historical_data_and_option_expirations('SPY')\n",
    "\n",
    "# Historical data as DataFrame\n",
    "df_history = pandas.DataFrame(ticker.history(period='max'))\n",
    "\n",
    "# Take the first option, which expires\n",
    "option_expiration_date = option_expirations.iloc[0][0]\n",
    "\n",
    "# Dataframe of calls and dataframe of puts for a single expiration date\n",
    "calls, puts = get_option_chain_by_expiration(ticker, option_expiration_date)\n"
   ]
  },
  {
   "cell_type": "code",
   "execution_count": null,
   "metadata": {},
   "outputs": [],
   "source": [
    "write_dataframes_to_csv(df_history, 'historical_data_all')\n",
    "write_dataframes_to_csv(calls, 'calls_1')\n",
    "write_dataframes_to_csv(puts, 'puts_1')"
   ]
  },
  {
   "cell_type": "markdown",
   "metadata": {},
   "source": [
    "## The hedging function itself"
   ]
  },
  {
   "cell_type": "code",
   "execution_count": 13,
   "metadata": {},
   "outputs": [],
   "source": [
    "# REFACTOR AND FIX AFTER REFACTORING\n",
    "\n",
    "def delta_hedge(underlying_data, call_option_data, option_expiration_date):\n",
    "    \n",
    "    # Should start with option which is close to ATM (at-the-money)\n",
    "    option = calls.iloc[0] \n",
    "    print(option)\n",
    "\n",
    "    print(option_expiration_date)\n",
    "    # Get time to maturity in years\n",
    "    t = int(option_expiration_date.days)/365\n",
    "    \n",
    "    # Debug print\n",
    "    print(t)\n",
    "    print(\"Days to maturity in days is\", days_to_maturity.days) # 49 days_to_maturity\n",
    "    \n",
    "    # time at t = 0, the date when the date was pulled\n",
    "    t0 = datetime(2023, 11, 9).date()\n",
    "    print(\"Time at t = 0 aka when data was fetched\", t0)\n",
    "    \n",
    "    # call option with price C0 at time t0\n",
    "    c0 = option['lastPrice']\n",
    "    print('Price of Call option c0 in time t0', c0)\n",
    "\n",
    "    # Strike price\n",
    "    strike = option['strike']\n",
    "    print('Strike price is: ', strike)\n",
    "    \n",
    "    # US treasury 10-year bond yield?\n",
    "    r = 0.05\n",
    "    \n",
    "    # What would be a good value? 0.2 is used in the exercies\n",
    "    sigma = 0.2\n",
    "    \n",
    "    # Value of the BSM for the call option c0 at time t0\n",
    "    val = BSM(kind='call', S0=c0, K=strike, T=t, r=r, sigma=sigma).value() \n",
    "    print('value from BSM', val)\n",
    "    \n",
    "    # Delta of the BSM for the call option c0 at time t0\n",
    "    delta = BSM(kind='call', S0=c0, K=strike, T=t, r=r, sigma=sigma).delta()\n",
    "    print('Delta from BSM', delta)\n",
    "    \n",
    "    # Construct two portfolios:\n",
    "    # OP with a long position in a call option\n",
    "    # RE which is a short position of number of delta of the underlying asset\n",
    "    \n",
    "    # OP\n",
    "    op = c0\n",
    "    print('Long position in a call option c0 is ', c0)\n",
    "    \n",
    "    # RE\n",
    "    re = -1*delta * c0\n",
    "    print('Short position re ', re)\n",
    "\n",
    "    # Portfolio value according to lecture 7\n",
    "    portfolio_value = c0 - delta*c0\n",
    "    print('Portfolio value ', portfolio_value)\n",
    "\n",
    "    option_quantity = 1 #One call option ?\n",
    "\n",
    "    pandas.to_datetime(calls['lastTradeDate'])\n",
    "    sorted_calls = calls.sort_values(by=['lastTradeDate'])\n",
    "    # sorted_calls.to_csv('sp500_calls_sorted_by_date_' + str(datetime.today()) + '.csv', sep='\\t', index=False)\n",
    "\n",
    "    # Changes in the portfolio OP are neutralized by oppsite changes in the replicatin portfolio re\n",
    "    # rehedge every second day\n",
    "    # Compute how much every portfolio has changed\n",
    "    # Count mean squared error"
   ]
  },
  {
   "cell_type": "code",
   "execution_count": 14,
   "metadata": {},
   "outputs": [
    {
     "name": "stdout",
     "output_type": "stream",
     "text": [
      "contractSymbol              SPY231113C00330000\n",
      "lastTradeDate        2023-11-13 18:05:26+00:00\n",
      "strike                                   330.0\n",
      "lastPrice                               110.35\n",
      "bid                                     110.52\n",
      "ask                                      110.7\n",
      "change                               -0.440002\n",
      "percentChange                         -0.39715\n",
      "volume                                     3.0\n",
      "openInterest                                13\n",
      "impliedVolatility                     2.187505\n",
      "inTheMoney                                True\n",
      "contractSize                           REGULAR\n",
      "currency                                   USD\n",
      "Name: 0, dtype: object\n",
      "2023-11-13\n"
     ]
    },
    {
     "ename": "AttributeError",
     "evalue": "'str' object has no attribute 'days'",
     "output_type": "error",
     "traceback": [
      "\u001b[0;31m---------------------------------------------------------------------------\u001b[0m",
      "\u001b[0;31mAttributeError\u001b[0m                            Traceback (most recent call last)",
      "Cell \u001b[0;32mIn[14], line 1\u001b[0m\n\u001b[0;32m----> 1\u001b[0m \u001b[43mdelta_hedge\u001b[49m\u001b[43m(\u001b[49m\u001b[43mdf_history\u001b[49m\u001b[43m,\u001b[49m\u001b[43m \u001b[49m\u001b[43mcalls\u001b[49m\u001b[43m,\u001b[49m\u001b[43m \u001b[49m\u001b[43moption_expiration_date\u001b[49m\u001b[43m)\u001b[49m\n",
      "Cell \u001b[0;32mIn[13], line 11\u001b[0m, in \u001b[0;36mdelta_hedge\u001b[0;34m(underlying_data, call_option_data, option_expiration_date)\u001b[0m\n\u001b[1;32m      9\u001b[0m \u001b[38;5;28mprint\u001b[39m(option_expiration_date)\n\u001b[1;32m     10\u001b[0m \u001b[38;5;66;03m# Get time to maturity in years\u001b[39;00m\n\u001b[0;32m---> 11\u001b[0m t \u001b[38;5;241m=\u001b[39m \u001b[38;5;28mint\u001b[39m(\u001b[43moption_expiration_date\u001b[49m\u001b[38;5;241;43m.\u001b[39;49m\u001b[43mdays\u001b[49m)\u001b[38;5;241m/\u001b[39m\u001b[38;5;241m365\u001b[39m\n\u001b[1;32m     13\u001b[0m \u001b[38;5;66;03m# Debug print\u001b[39;00m\n\u001b[1;32m     14\u001b[0m \u001b[38;5;28mprint\u001b[39m(t)\n",
      "\u001b[0;31mAttributeError\u001b[0m: 'str' object has no attribute 'days'"
     ]
    }
   ],
   "source": [
    "delta_hedge(df_history, calls, option_expiration_date)"
   ]
  },
  {
   "cell_type": "code",
   "execution_count": null,
   "metadata": {},
   "outputs": [],
   "source": []
  }
 ],
 "metadata": {
  "kernelspec": {
   "display_name": "Python 3 (ipykernel)",
   "language": "python",
   "name": "python3"
  },
  "language_info": {
   "codemirror_mode": {
    "name": "ipython",
    "version": 3
   },
   "file_extension": ".py",
   "mimetype": "text/x-python",
   "name": "python",
   "nbconvert_exporter": "python",
   "pygments_lexer": "ipython3",
   "version": "3.10.12"
  }
 },
 "nbformat": 4,
 "nbformat_minor": 4
}
